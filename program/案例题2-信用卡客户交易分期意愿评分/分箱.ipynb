{
 "cells": [
  {
   "cell_type": "code",
   "execution_count": 6,
   "metadata": {
    "collapsed": true
   },
   "outputs": [],
   "source": [
    "#分箱操作\n",
    "import pandas as pd\n",
    "data = pd.read_csv('data2.csv',index_col=0,header=0)"
   ]
  },
  {
   "cell_type": "code",
   "execution_count": 7,
   "metadata": {
    "collapsed": false
   },
   "outputs": [
    {
     "data": {
      "text/plain": [
       "(10000, 10)"
      ]
     },
     "execution_count": 7,
     "metadata": {},
     "output_type": "execute_result"
    }
   ],
   "source": [
    "data.shape"
   ]
  },
  {
   "cell_type": "markdown",
   "metadata": {},
   "source": [
    "'''特征变量选择(排序)对于数据分析、机器学习从业者来说非常重要。\n",
    "好的特征选择能够提升模型的性能，更能帮助我们理解数据的特点、底层结构，\n",
    "这对进一步改善模型、算法都有着重要作用。至于Python的变量选择代码实现可以参考结合Scikit-learn介绍几种常用的特征选择方法。\n",
    "\n",
    "在本文中，我们采用信用评分模型的变量选择方法，\n",
    "通过WOE分析方法，即是通过比较指标分箱和对应分箱的违约概率来确定指标是否符合经济意义。\n",
    "首先我们对变量进行离散化（分箱）处理。\n",
    "\n",
    "'''\n",
    "#https://www.jianshu.com/p/f931a4df202c\n"
   ]
  },
  {
   "cell_type": "code",
   "execution_count": 8,
   "metadata": {
    "collapsed": true
   },
   "outputs": [],
   "source": [
    "import pandas as pd\n",
    "import numpy as np\n",
    "from pandas import Series,DataFrame\n",
    "import scipy.stats.stats as stats\n",
    "import matplotlib.pyplot as plt\n",
    "import statsmodels.api as sm\n",
    "import math\n",
    "\n",
    "# 定义自动分箱函数\n",
    "def mono_bin(Y, X, n = 20):\n",
    "    r = 0\n",
    "    good=Y.sum()\n",
    "    bad=Y.count()-good\n",
    "    while np.abs(r) < 1:\n",
    "        d1 = pd.DataFrame({\"X\": X, \"Y\": Y, \"Bucket\": pd.qcut(X, n)})\n",
    "        d2 = d1.groupby('Bucket', as_index = True)\n",
    "        r, p = stats.spearmanr(d2.mean().X, d2.mean().Y)\n",
    "        n = n - 1\n",
    "    d3 = pd.DataFrame(d2.X.min(), columns = ['min'])\n",
    "    d3['min']=d2.min().X\n",
    "    d3['max'] = d2.max().X\n",
    "    d3['sum'] = d2.sum().Y\n",
    "    d3['total'] = d2.count().Y\n",
    "    d3['rate'] = d2.mean().Y\n",
    "    d3['woe']=np.log((d3['rate']/(1-d3['rate']))/(good/bad))\n",
    "    d3['goodattribute']=d3['sum']/good\n",
    "    d3['badattribute']=(d3['total']-d3['sum'])/bad\n",
    "    iv=((d3['goodattribute']-d3['badattribute'])*d3['woe']).sum()\n",
    "    d4 = (d3.sort_index(by = 'min'))\n",
    "    print(\"=\" * 60)\n",
    "    print(d4)\n",
    "    cut=[]\n",
    "    cut.append(float('-inf'))\n",
    "    for i in range(1,n+1):\n",
    "        qua=X.quantile(i/(n+1))\n",
    "        cut.append(round(qua,4))\n",
    "    cut.append(float('inf'))\n",
    "    woe=list(d4['woe'].round(3))\n",
    "    return d4,iv,cut,woe\n",
    "#自定义分箱函数\n",
    "def self_bin(Y,X,cat):\n",
    "    good=Y.sum()\n",
    "    bad=Y.count()-good\n",
    "    d1=pd.DataFrame({'X':X,'Y':Y,'Bucket':pd.cut(X,cat)})\n",
    "    d2=d1.groupby('Bucket', as_index = True)\n",
    "    d3 = pd.DataFrame(d2.X.min(), columns=['min'])\n",
    "    d3['min'] = d2.min().X\n",
    "    d3['max'] = d2.max().X\n",
    "    d3['sum'] = d2.sum().Y\n",
    "    d3['total'] = d2.count().Y\n",
    "    d3['rate'] = d2.mean().Y\n",
    "    d3['woe'] = np.log((d3['rate'] / (1 - d3['rate'])) / (good / bad))\n",
    "    d3['goodattribute'] = d3['sum'] / good\n",
    "    d3['badattribute'] = (d3['total'] - d3['sum']) / bad\n",
    "    iv = ((d3['goodattribute'] - d3['badattribute']) * d3['woe']).sum()\n",
    "    d4 = (d3.sort_index(by='min'))\n",
    "    print(\"=\" * 60)\n",
    "    print(d4)\n",
    "    woe = list(d4['woe'].round(3))\n",
    "    return d4, iv,woe\n",
    "#用woe代替\n",
    "def replace_woe(series,cut,woe):\n",
    "    list=[]\n",
    "    i=0\n",
    "    while i<len(series):\n",
    "        value=series[i]\n",
    "        j=len(cut)-2\n",
    "        m=len(cut)-2\n",
    "        while j>=0:\n",
    "            if value>=cut[j]:\n",
    "                j=-1\n",
    "            else:\n",
    "                j -=1\n",
    "                m -= 1\n",
    "        list.append(woe[m])\n",
    "        i += 1\n",
    "    return list\n",
    "#计算分数函数\n",
    "def get_score(coe,woe,factor):\n",
    "    scores=[]\n",
    "    for w in woe:\n",
    "        score=round(coe*w*factor,0)\n",
    "        scores.append(score)\n",
    "    return scores\n",
    "\n",
    "#根据变量计算分数\n",
    "def compute_score(series,cut,score):\n",
    "    list = []\n",
    "    i = 0\n",
    "    while i < len(series):\n",
    "        value = series[i]\n",
    "        j = len(cut) - 2\n",
    "        m = len(cut) - 2\n",
    "        while j >= 0:\n",
    "            if value >= cut[j]:\n",
    "                j = -1\n",
    "            else:\n",
    "                j -= 1\n",
    "                m -= 1\n",
    "        list.append(score[m])\n",
    "        i += 1\n",
    "    return list\n"
   ]
  },
  {
   "cell_type": "code",
   "execution_count": 9,
   "metadata": {
    "collapsed": true
   },
   "outputs": [],
   "source": [
    "    pinf = float('inf')#正无穷大\n",
    "    ninf = float('-inf')#负无穷大"
   ]
  },
  {
   "cell_type": "code",
   "execution_count": 19,
   "metadata": {
    "collapsed": false,
    "scrolled": true
   },
   "outputs": [
    {
     "data": {
      "text/html": [
       "<div>\n",
       "<table border=\"1\" class=\"dataframe\">\n",
       "  <thead>\n",
       "    <tr style=\"text-align: right;\">\n",
       "      <th></th>\n",
       "      <th>count</th>\n",
       "      <th>mean</th>\n",
       "      <th>std</th>\n",
       "      <th>min</th>\n",
       "      <th>25%</th>\n",
       "      <th>50%</th>\n",
       "      <th>75%</th>\n",
       "      <th>max</th>\n",
       "    </tr>\n",
       "  </thead>\n",
       "  <tbody>\n",
       "    <tr>\n",
       "      <th>y</th>\n",
       "      <td>10000.0</td>\n",
       "      <td>0.199500</td>\n",
       "      <td>0.399644</td>\n",
       "      <td>0.0</td>\n",
       "      <td>0.0</td>\n",
       "      <td>0.0</td>\n",
       "      <td>0.0000</td>\n",
       "      <td>1.00</td>\n",
       "    </tr>\n",
       "    <tr>\n",
       "      <th>six_cycle_mp_num</th>\n",
       "      <td>10000.0</td>\n",
       "      <td>0.354800</td>\n",
       "      <td>0.873037</td>\n",
       "      <td>0.0</td>\n",
       "      <td>0.0</td>\n",
       "      <td>0.0</td>\n",
       "      <td>0.0000</td>\n",
       "      <td>5.00</td>\n",
       "    </tr>\n",
       "    <tr>\n",
       "      <th>six_cycle_mp_avg_amt</th>\n",
       "      <td>10000.0</td>\n",
       "      <td>2227.685166</td>\n",
       "      <td>8820.798447</td>\n",
       "      <td>0.0</td>\n",
       "      <td>0.0</td>\n",
       "      <td>0.0</td>\n",
       "      <td>0.0000</td>\n",
       "      <td>265792.00</td>\n",
       "    </tr>\n",
       "    <tr>\n",
       "      <th>epp_nbr_12m</th>\n",
       "      <td>10000.0</td>\n",
       "      <td>1.226500</td>\n",
       "      <td>3.057373</td>\n",
       "      <td>0.0</td>\n",
       "      <td>0.0</td>\n",
       "      <td>0.0</td>\n",
       "      <td>1.0000</td>\n",
       "      <td>102.00</td>\n",
       "    </tr>\n",
       "    <tr>\n",
       "      <th>epp_avg_amt_12m</th>\n",
       "      <td>10000.0</td>\n",
       "      <td>810.992281</td>\n",
       "      <td>2380.266311</td>\n",
       "      <td>0.0</td>\n",
       "      <td>0.0</td>\n",
       "      <td>0.0</td>\n",
       "      <td>613.5225</td>\n",
       "      <td>48123.42</td>\n",
       "    </tr>\n",
       "    <tr>\n",
       "      <th>alop_nbr_12m</th>\n",
       "      <td>10000.0</td>\n",
       "      <td>0.318700</td>\n",
       "      <td>0.980115</td>\n",
       "      <td>0.0</td>\n",
       "      <td>0.0</td>\n",
       "      <td>0.0</td>\n",
       "      <td>0.0000</td>\n",
       "      <td>24.00</td>\n",
       "    </tr>\n",
       "    <tr>\n",
       "      <th>alop_avg_amt_12m</th>\n",
       "      <td>10000.0</td>\n",
       "      <td>602.073626</td>\n",
       "      <td>2431.722290</td>\n",
       "      <td>0.0</td>\n",
       "      <td>0.0</td>\n",
       "      <td>0.0</td>\n",
       "      <td>0.0000</td>\n",
       "      <td>50833.33</td>\n",
       "    </tr>\n",
       "    <tr>\n",
       "      <th>six_bill_low_repay_num</th>\n",
       "      <td>10000.0</td>\n",
       "      <td>0.978100</td>\n",
       "      <td>1.602647</td>\n",
       "      <td>0.0</td>\n",
       "      <td>0.0</td>\n",
       "      <td>0.0</td>\n",
       "      <td>1.0000</td>\n",
       "      <td>6.00</td>\n",
       "    </tr>\n",
       "    <tr>\n",
       "      <th>consume_amt_session</th>\n",
       "      <td>10000.0</td>\n",
       "      <td>9981.344644</td>\n",
       "      <td>17264.501651</td>\n",
       "      <td>0.0</td>\n",
       "      <td>960.0</td>\n",
       "      <td>4000.0</td>\n",
       "      <td>12444.1975</td>\n",
       "      <td>492018.00</td>\n",
       "    </tr>\n",
       "    <tr>\n",
       "      <th>consume_num_session</th>\n",
       "      <td>10000.0</td>\n",
       "      <td>8.534800</td>\n",
       "      <td>17.485828</td>\n",
       "      <td>0.0</td>\n",
       "      <td>1.0</td>\n",
       "      <td>3.0</td>\n",
       "      <td>8.0000</td>\n",
       "      <td>271.00</td>\n",
       "    </tr>\n",
       "  </tbody>\n",
       "</table>\n",
       "</div>"
      ],
      "text/plain": [
       "                          count         mean           std  min    25%  \\\n",
       "y                       10000.0     0.199500      0.399644  0.0    0.0   \n",
       "six_cycle_mp_num        10000.0     0.354800      0.873037  0.0    0.0   \n",
       "six_cycle_mp_avg_amt    10000.0  2227.685166   8820.798447  0.0    0.0   \n",
       "epp_nbr_12m             10000.0     1.226500      3.057373  0.0    0.0   \n",
       "epp_avg_amt_12m         10000.0   810.992281   2380.266311  0.0    0.0   \n",
       "alop_nbr_12m            10000.0     0.318700      0.980115  0.0    0.0   \n",
       "alop_avg_amt_12m        10000.0   602.073626   2431.722290  0.0    0.0   \n",
       "six_bill_low_repay_num  10000.0     0.978100      1.602647  0.0    0.0   \n",
       "consume_amt_session     10000.0  9981.344644  17264.501651  0.0  960.0   \n",
       "consume_num_session     10000.0     8.534800     17.485828  0.0    1.0   \n",
       "\n",
       "                           50%         75%        max  \n",
       "y                          0.0      0.0000       1.00  \n",
       "six_cycle_mp_num           0.0      0.0000       5.00  \n",
       "six_cycle_mp_avg_amt       0.0      0.0000  265792.00  \n",
       "epp_nbr_12m                0.0      1.0000     102.00  \n",
       "epp_avg_amt_12m            0.0    613.5225   48123.42  \n",
       "alop_nbr_12m               0.0      0.0000      24.00  \n",
       "alop_avg_amt_12m           0.0      0.0000   50833.33  \n",
       "six_bill_low_repay_num     0.0      1.0000       6.00  \n",
       "consume_amt_session     4000.0  12444.1975  492018.00  \n",
       "consume_num_session        3.0      8.0000     271.00  "
      ]
     },
     "execution_count": 19,
     "metadata": {},
     "output_type": "execute_result"
    }
   ],
   "source": [
    "data.describe().T"
   ]
  },
  {
   "cell_type": "code",
   "execution_count": null,
   "metadata": {
    "collapsed": true
   },
   "outputs": [],
   "source": [
    "先做自动最优分箱"
   ]
  },
  {
   "cell_type": "code",
   "execution_count": 21,
   "metadata": {
    "collapsed": false
   },
   "outputs": [
    {
     "ename": "ValueError",
     "evalue": "Bin edges must be unique: array([ 0.,  0.,  0.,  0.,  0.,  0.,  0.,  0.,  0.,  0.,  0.,  0.,  0.,\n        0.,  0.,  0.,  0.,  1.,  1.,  2.,  5.])",
     "output_type": "error",
     "traceback": [
      "\u001b[0;31m---------------------------------------------------------------------------\u001b[0m",
      "\u001b[0;31mValueError\u001b[0m                                Traceback (most recent call last)",
      "\u001b[0;32m<ipython-input-21-90bf43aad488>\u001b[0m in \u001b[0;36m<module>\u001b[0;34m()\u001b[0m\n\u001b[0;32m----> 1\u001b[0;31m \u001b[0mdfx1\u001b[0m\u001b[1;33m,\u001b[0m\u001b[0mivx1\u001b[0m\u001b[1;33m,\u001b[0m\u001b[0mcutx1\u001b[0m\u001b[1;33m,\u001b[0m\u001b[0mwoex1\u001b[0m\u001b[1;33m=\u001b[0m\u001b[0mmono_bin\u001b[0m\u001b[1;33m(\u001b[0m\u001b[0mdata\u001b[0m\u001b[1;33m.\u001b[0m\u001b[0my\u001b[0m\u001b[1;33m,\u001b[0m \u001b[0mdata\u001b[0m\u001b[1;33m.\u001b[0m\u001b[0msix_cycle_mp_num\u001b[0m\u001b[1;33m,\u001b[0m \u001b[0mn\u001b[0m\u001b[1;33m=\u001b[0m\u001b[1;36m20\u001b[0m\u001b[1;33m)\u001b[0m\u001b[1;33m\u001b[0m\u001b[0m\n\u001b[0m",
      "\u001b[0;32m<ipython-input-8-3cac8c6fdf48>\u001b[0m in \u001b[0;36mmono_bin\u001b[0;34m(Y, X, n)\u001b[0m\n\u001b[1;32m     13\u001b[0m     \u001b[0mbad\u001b[0m\u001b[1;33m=\u001b[0m\u001b[0mY\u001b[0m\u001b[1;33m.\u001b[0m\u001b[0mcount\u001b[0m\u001b[1;33m(\u001b[0m\u001b[1;33m)\u001b[0m\u001b[1;33m-\u001b[0m\u001b[0mgood\u001b[0m\u001b[1;33m\u001b[0m\u001b[0m\n\u001b[1;32m     14\u001b[0m     \u001b[1;32mwhile\u001b[0m \u001b[0mnp\u001b[0m\u001b[1;33m.\u001b[0m\u001b[0mabs\u001b[0m\u001b[1;33m(\u001b[0m\u001b[0mr\u001b[0m\u001b[1;33m)\u001b[0m \u001b[1;33m<\u001b[0m \u001b[1;36m1\u001b[0m\u001b[1;33m:\u001b[0m\u001b[1;33m\u001b[0m\u001b[0m\n\u001b[0;32m---> 15\u001b[0;31m         \u001b[0md1\u001b[0m \u001b[1;33m=\u001b[0m \u001b[0mpd\u001b[0m\u001b[1;33m.\u001b[0m\u001b[0mDataFrame\u001b[0m\u001b[1;33m(\u001b[0m\u001b[1;33m{\u001b[0m\u001b[1;34m\"X\"\u001b[0m\u001b[1;33m:\u001b[0m \u001b[0mX\u001b[0m\u001b[1;33m,\u001b[0m \u001b[1;34m\"Y\"\u001b[0m\u001b[1;33m:\u001b[0m \u001b[0mY\u001b[0m\u001b[1;33m,\u001b[0m \u001b[1;34m\"Bucket\"\u001b[0m\u001b[1;33m:\u001b[0m \u001b[0mpd\u001b[0m\u001b[1;33m.\u001b[0m\u001b[0mqcut\u001b[0m\u001b[1;33m(\u001b[0m\u001b[0mX\u001b[0m\u001b[1;33m,\u001b[0m \u001b[0mn\u001b[0m\u001b[1;33m)\u001b[0m\u001b[1;33m}\u001b[0m\u001b[1;33m)\u001b[0m\u001b[1;33m\u001b[0m\u001b[0m\n\u001b[0m\u001b[1;32m     16\u001b[0m         \u001b[0md2\u001b[0m \u001b[1;33m=\u001b[0m \u001b[0md1\u001b[0m\u001b[1;33m.\u001b[0m\u001b[0mgroupby\u001b[0m\u001b[1;33m(\u001b[0m\u001b[1;34m'Bucket'\u001b[0m\u001b[1;33m,\u001b[0m \u001b[0mas_index\u001b[0m \u001b[1;33m=\u001b[0m \u001b[1;32mTrue\u001b[0m\u001b[1;33m)\u001b[0m\u001b[1;33m\u001b[0m\u001b[0m\n\u001b[1;32m     17\u001b[0m         \u001b[0mr\u001b[0m\u001b[1;33m,\u001b[0m \u001b[0mp\u001b[0m \u001b[1;33m=\u001b[0m \u001b[0mstats\u001b[0m\u001b[1;33m.\u001b[0m\u001b[0mspearmanr\u001b[0m\u001b[1;33m(\u001b[0m\u001b[0md2\u001b[0m\u001b[1;33m.\u001b[0m\u001b[0mmean\u001b[0m\u001b[1;33m(\u001b[0m\u001b[1;33m)\u001b[0m\u001b[1;33m.\u001b[0m\u001b[0mX\u001b[0m\u001b[1;33m,\u001b[0m \u001b[0md2\u001b[0m\u001b[1;33m.\u001b[0m\u001b[0mmean\u001b[0m\u001b[1;33m(\u001b[0m\u001b[1;33m)\u001b[0m\u001b[1;33m.\u001b[0m\u001b[0mY\u001b[0m\u001b[1;33m)\u001b[0m\u001b[1;33m\u001b[0m\u001b[0m\n",
      "\u001b[0;32mC:\\ProgramData\\Anaconda3\\lib\\site-packages\\pandas\\tools\\tile.py\u001b[0m in \u001b[0;36mqcut\u001b[0;34m(x, q, labels, retbins, precision)\u001b[0m\n\u001b[1;32m    173\u001b[0m     \u001b[0mbins\u001b[0m \u001b[1;33m=\u001b[0m \u001b[0malgos\u001b[0m\u001b[1;33m.\u001b[0m\u001b[0mquantile\u001b[0m\u001b[1;33m(\u001b[0m\u001b[0mx\u001b[0m\u001b[1;33m,\u001b[0m \u001b[0mquantiles\u001b[0m\u001b[1;33m)\u001b[0m\u001b[1;33m\u001b[0m\u001b[0m\n\u001b[1;32m    174\u001b[0m     return _bins_to_cuts(x, bins, labels=labels, retbins=retbins,\n\u001b[0;32m--> 175\u001b[0;31m                          precision=precision, include_lowest=True)\n\u001b[0m\u001b[1;32m    176\u001b[0m \u001b[1;33m\u001b[0m\u001b[0m\n\u001b[1;32m    177\u001b[0m \u001b[1;33m\u001b[0m\u001b[0m\n",
      "\u001b[0;32mC:\\ProgramData\\Anaconda3\\lib\\site-packages\\pandas\\tools\\tile.py\u001b[0m in \u001b[0;36m_bins_to_cuts\u001b[0;34m(x, bins, right, labels, retbins, precision, name, include_lowest)\u001b[0m\n\u001b[1;32m    192\u001b[0m \u001b[1;33m\u001b[0m\u001b[0m\n\u001b[1;32m    193\u001b[0m     \u001b[1;32mif\u001b[0m \u001b[0mlen\u001b[0m\u001b[1;33m(\u001b[0m\u001b[0malgos\u001b[0m\u001b[1;33m.\u001b[0m\u001b[0munique\u001b[0m\u001b[1;33m(\u001b[0m\u001b[0mbins\u001b[0m\u001b[1;33m)\u001b[0m\u001b[1;33m)\u001b[0m \u001b[1;33m<\u001b[0m \u001b[0mlen\u001b[0m\u001b[1;33m(\u001b[0m\u001b[0mbins\u001b[0m\u001b[1;33m)\u001b[0m\u001b[1;33m:\u001b[0m\u001b[1;33m\u001b[0m\u001b[0m\n\u001b[0;32m--> 194\u001b[0;31m         \u001b[1;32mraise\u001b[0m \u001b[0mValueError\u001b[0m\u001b[1;33m(\u001b[0m\u001b[1;34m'Bin edges must be unique: %s'\u001b[0m \u001b[1;33m%\u001b[0m \u001b[0mrepr\u001b[0m\u001b[1;33m(\u001b[0m\u001b[0mbins\u001b[0m\u001b[1;33m)\u001b[0m\u001b[1;33m)\u001b[0m\u001b[1;33m\u001b[0m\u001b[0m\n\u001b[0m\u001b[1;32m    195\u001b[0m \u001b[1;33m\u001b[0m\u001b[0m\n\u001b[1;32m    196\u001b[0m     \u001b[1;32mif\u001b[0m \u001b[0minclude_lowest\u001b[0m\u001b[1;33m:\u001b[0m\u001b[1;33m\u001b[0m\u001b[0m\n",
      "\u001b[0;31mValueError\u001b[0m: Bin edges must be unique: array([ 0.,  0.,  0.,  0.,  0.,  0.,  0.,  0.,  0.,  0.,  0.,  0.,  0.,\n        0.,  0.,  0.,  0.,  1.,  1.,  2.,  5.])"
     ]
    }
   ],
   "source": [
    "dfx1,ivx1,cutx1,woex1=mono_bin(data.y, data.six_cycle_mp_num, n=20)"
   ]
  },
  {
   "cell_type": "code",
   "execution_count": 26,
   "metadata": {
    "collapsed": false
   },
   "outputs": [
    {
     "name": "stdout",
     "output_type": "stream",
     "text": [
      "============================================================\n",
      "             min       max     sum  total    rate           woe  \\\n",
      "Bucket                                                            \n",
      "[0, 492018]  0.0  492018.0  1995.0  10000  0.1995  2.220446e-16   \n",
      "\n",
      "             goodattribute  badattribute  \n",
      "Bucket                                    \n",
      "[0, 492018]            1.0           1.0  \n"
     ]
    },
    {
     "name": "stderr",
     "output_type": "stream",
     "text": [
      "C:\\ProgramData\\Anaconda3\\lib\\site-packages\\ipykernel\\__main__.py:29: FutureWarning: by argument to sort_index is deprecated, pls use .sort_values(by=...)\n"
     ]
    }
   ],
   "source": [
    "#dfx1,ivx1,cutx1,woex1=mono_bin(data.y, data.six_cycle_mp_num, n=5)#\n",
    "#dfx2,ivx2,cutx2,woex2=mono_bin(data.y, data.six_cycle_mp_avg_amt, n=5)#\n",
    "#dfx3,ivx3,cutx3,woex3 =mono_bin(data.y, data.epp_nbr_12m, n=5)#\n",
    "#dfx4,ivx4,cutx4,woex4 =mono_bin(data.y, data.epp_avg_amt_12m, n=6)#\n",
    "#dfx5,ivx5,cutx5,woex5 =mono_bin(data.y, data.alop_nbr_12m, n=6)#\n",
    "#dfx6,ivx6,cutx6,woex6 =mono_bin(data.y, data.alop_avg_amt_12m, n=6)#\n",
    "#dfx7,ivx7,cutx7,woex7 =mono_bin(data.y, data.six_bill_low_repay_num, n=6)#\n",
    "dfx8,ivx8,cutx8,woex8 =mono_bin(data.y, data.consume_amt_session, n=6)#\n",
    "#dfx9,ivx9,cutx9,woex9 =mono_bin(data.y, data.consume_num_session, n=6)#"
   ]
  },
  {
   "cell_type": "code",
   "execution_count": null,
   "metadata": {
    "collapsed": true
   },
   "outputs": [],
   "source": []
  },
  {
   "cell_type": "code",
   "execution_count": null,
   "metadata": {
    "collapsed": true
   },
   "outputs": [],
   "source": [
    "#dfx2,ivx2cutx2,woex2=mono_bin(data.y, data.age, n=3)#age-年龄\n",
    "dfx3,ivx3,cutx3,woex3 =mono_bin(data.y, data.xaccount_age, n=5)#xaccount_age-账龄\n",
    "dfx4,ivx4,cutx4,woex4 =mono_bin(data.y, data.cred_limit, n=6)#cred_limit-行用卡额度\n",
    "dfx5,ivx5,cutx5,woex5 =mono_bin(data.y, data.this_bill_rate, n=6)#this_bill_rate-行用卡额度\n",
    "dfx6,ivx6,cutx6,woex6 =mono_bin(data.y, data.this_bill_mp, n=6)#this_bill_mp-行用卡额度\n",
    "#dfx7,ivx7,cutx7,woex7 =mono_bin(data.y, data.last_mp_days, n=6)#last_mp_days-行用卡额度\n",
    "#dfx8,ivx8,cutx8,woex8 =mono_bin(data.y, data.six_bill_num, n=6)#six_bill_num-行用卡额度\n",
    "dfx9,ivx9,cutx9,woex9 =mono_bin(data.y, data.six_bill_avg_amt, n=6)#six_bill_avg_amt-行用卡额度\n",
    "#dfx10,ivx10,cutx10,woex10 =mono_bin(data.y, data.six_cycle_mp_num, n=6)#six_cycle_mp_num-行用卡额度\n",
    "#dfx11,ivx11,cutx11,woex11 =mono_bin(data.y, data.six_cycle_mp_avg_amt, n=6)#six_cycle_mp_avg_amt-行用卡额度\n",
    "dfx12,ivx12,cutx12,woex12 =mono_bin(data.y, data.six_bill_avg_debt_rate, n=6)#six_bill_avg_debt_rate-行用卡额度\n",
    "#dfx13,ivx13,cutx13,woex13 =mono_bin(data.y, data.six_bill_low_repay_num, n=6)#six_bill_low_repay_num-行用卡额度\n",
    "#dfx14,ivx14,cutx14,woex14 =mono_bin(data.y, data.epp_nbr_12m, n=6)#epp_nbr_12m-行用卡额度\n",
    "#dfx15,ivx15,cutx15,woex15 =mono_bin(data.y, data.alop_nbr_12m, n=6)#alop_nbr_12m-行用卡额度\n",
    "#dfx16,ivx16,cutx16,woex16 =mono_bin(data.y, data.epp_avg_amt_12m, n=6)#epp_avg_amt_12m-行用卡额度\n",
    "#dfx17,ivx17,cutx17,woex17 =mono_bin(data.y, data.alop_avg_amt_12m, n=6)#alop_avg_amt_12m-行用卡额度\n",
    "dfx18,ivx18,cutx18,woex18 =mono_bin(data.y, data.consume_num_session12, n=6)#consume_num_session12-行用卡额度\n",
    "dfx19,ivx19,cutx19,woex19 =mono_bin(data.y, data.consume_num_session6, n=6)#consume_num_session6-行用卡额度\n",
    "dfx20,ivx20,cutx20,woex20 =mono_bin(data.y, data.consume_num_session3, n=6)#consume_num_session3-行用卡额度\n",
    "#dfx21,ivx21,cutx21,woex21 =mono_bin(data.y, data.consume_num_session, n=6)#consume_num_session-行用卡额度\n",
    "dfx22,ivx22,cutx22,woex22 =mono_bin(data.y, data.consume_amt_session12, n=6)#consume_amt_session12-行用卡额度\n",
    "dfx23,ivx23,cutx23,woex23 =mono_bin(data.y, data.consume_amt_session6, n=6)#consume_amt_session6-行用卡额度\n",
    "dfx24,ivx24,cutx24,woex24 =mono_bin(data.y, data.consume_amt_session3, n=6)#consume_amt_session3-行用卡额度\n",
    "dfx25,ivx25,cutx25,woex25 =mono_bin(data.y, data.consume_amt_session, n=6)#consume_amt_session-行用卡额度\n",
    "dfx26,ivx26,cutx26,woex26 =mono_bin(data.y, data.month_avg_use_year, n=6)#month_avg_use_year-行用卡额度\n",
    "dfx27,ivx27,cutx27,woex27 =mono_bin(data.y, data.month_avg_use_month6, n=6)#month_avg_use_month6-行用卡额度\n",
    "dfx28,ivx28,cutx28,woex28 =mono_bin(data.y, data.month_avg_use_month3, n=6)#month_avg_use_month3-行用卡额度\n"
   ]
  },
  {
   "cell_type": "code",
   "execution_count": 22,
   "metadata": {
    "collapsed": true
   },
   "outputs": [],
   "source": [
    "cutx1 = [ninf,0,1,2,3,4,pinf]\n",
    "cutx2 = [ninf,0,1,2,3,4,pinf]\n",
    "cutx3 = [ninf,0,1,2,3,4,pinf]\n",
    "cutx4 = [ninf,0,1,2,3,4,pinf]\n",
    "cutx5 = [ninf,0,1,2,3,4,pinf]\n",
    "cutx6 = [ninf,0,1,2,3,4,pinf]\n",
    "cutx7 = [ninf,0,1,2,3,4,pinf]"
   ]
  },
  {
   "cell_type": "code",
   "execution_count": null,
   "metadata": {
    "collapsed": true
   },
   "outputs": [],
   "source": [
    "特征标准化\n"
   ]
  },
  {
   "cell_type": "code",
   "execution_count": null,
   "metadata": {
    "collapsed": true
   },
   "outputs": [],
   "source": [
    "\n",
    "import pandas as pd\n",
    "from sklearn.preprocessing import MinMaxScaler\n",
    "from sklearn.preprocessing import StandardScaler\n",
    " \n",
    "if __name__ == \"__main__\":\n",
    "    # 读取葡萄酒数据集\n",
    "    data = pd.read_csv(\"G:/dataset/wine.csv\")\n",
    "    # 获取第二列Alcohol\n",
    "    x = data[\"Alcohol\"]\n",
    "    std = StandardScaler()\n",
    "    #将x进行标准化\n",
    "    x_std = std.fit_transform(x)\n",
    "    print(x_std)\n"
   ]
  },
  {
   "cell_type": "code",
   "execution_count": null,
   "metadata": {
    "collapsed": true
   },
   "outputs": [],
   "source": []
  },
  {
   "cell_type": "code",
   "execution_count": null,
   "metadata": {
    "collapsed": true
   },
   "outputs": [],
   "source": []
  },
  {
   "cell_type": "code",
   "execution_count": null,
   "metadata": {
    "collapsed": true
   },
   "outputs": [],
   "source": []
  }
 ],
 "metadata": {
  "kernelspec": {
   "display_name": "Python 3",
   "language": "python",
   "name": "python3"
  },
  "language_info": {
   "codemirror_mode": {
    "name": "ipython",
    "version": 3
   },
   "file_extension": ".py",
   "mimetype": "text/x-python",
   "name": "python",
   "nbconvert_exporter": "python",
   "pygments_lexer": "ipython3",
   "version": "3.6.0"
  }
 },
 "nbformat": 4,
 "nbformat_minor": 2
}
