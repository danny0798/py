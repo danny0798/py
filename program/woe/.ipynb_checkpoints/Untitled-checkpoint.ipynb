{
 "cells": [
  {
   "cell_type": "code",
   "execution_count": 1,
   "metadata": {
    "collapsed": false
   },
   "outputs": [
    {
     "ename": "NameError",
     "evalue": "name 'tran_data' is not defined",
     "output_type": "error",
     "traceback": [
      "\u001b[0;31m---------------------------------------------------------------------------\u001b[0m",
      "\u001b[0;31mNameError\u001b[0m                                 Traceback (most recent call last)",
      "\u001b[0;32m<ipython-input-1-81544a8faa1d>\u001b[0m in \u001b[0;36m<module>\u001b[0;34m()\u001b[0m\n\u001b[1;32m      1\u001b[0m \u001b[0mfor_woe_cols\u001b[0m\u001b[1;33m=\u001b[0m\u001b[1;33m[\u001b[0m\u001b[1;34m'msk_mth_since_last_limit_review'\u001b[0m\u001b[1;33m,\u001b[0m \u001b[1;34m'msk_age'\u001b[0m\u001b[1;33m,\u001b[0m \u001b[1;34m'msk_bank_tenor'\u001b[0m\u001b[1;33m,\u001b[0m\u001b[1;34m'response'\u001b[0m\u001b[1;33m]\u001b[0m\u001b[1;33m\u001b[0m\u001b[0m\n\u001b[0;32m----> 2\u001b[0;31m \u001b[0mfor_woe\u001b[0m \u001b[1;33m=\u001b[0m \u001b[0mtran_data\u001b[0m\u001b[1;33m[\u001b[0m\u001b[0mfor_woe_cols\u001b[0m\u001b[1;33m]\u001b[0m\u001b[1;33m.\u001b[0m\u001b[0mcopy\u001b[0m\u001b[1;33m(\u001b[0m\u001b[1;33m)\u001b[0m\u001b[1;33m\u001b[0m\u001b[0m\n\u001b[0m\u001b[1;32m      3\u001b[0m \u001b[0mfor_woe\u001b[0m\u001b[1;33m.\u001b[0m\u001b[0mrename\u001b[0m\u001b[1;33m(\u001b[0m\u001b[0mcolumns\u001b[0m\u001b[1;33m=\u001b[0m\u001b[1;33m{\u001b[0m\u001b[1;34m'response'\u001b[0m\u001b[1;33m:\u001b[0m \u001b[1;34m'target'\u001b[0m\u001b[1;33m}\u001b[0m\u001b[1;33m,\u001b[0m \u001b[0minplace\u001b[0m\u001b[1;33m=\u001b[0m\u001b[1;32mTrue\u001b[0m\u001b[1;33m)\u001b[0m\u001b[1;33m\u001b[0m\u001b[0m\n\u001b[1;32m      4\u001b[0m \u001b[0mfor_woe\u001b[0m\u001b[1;33m.\u001b[0m\u001b[0mto_csv\u001b[0m\u001b[1;33m(\u001b[0m\u001b[0mfilepath\u001b[0m\u001b[1;33m+\u001b[0m\u001b[1;34m'woe_data_in.csv'\u001b[0m\u001b[1;33m,\u001b[0m \u001b[0mindex\u001b[0m\u001b[1;33m=\u001b[0m\u001b[1;32mFalse\u001b[0m\u001b[1;33m)\u001b[0m\u001b[1;33m\u001b[0m\u001b[0m\n",
      "\u001b[0;31mNameError\u001b[0m: name 'tran_data' is not defined"
     ]
    }
   ],
   "source": [
    "for_woe_cols=['msk_mth_since_last_limit_review', 'msk_age', 'msk_bank_tenor','response']\n",
    "for_woe = tran_data[for_woe_cols].copy()\n",
    "for_woe.rename(columns={'response': 'target'}, inplace=True)\n",
    "for_woe.to_csv(filepath+'woe_data_in.csv', index=False)\n"
   ]
  },
  {
   "cell_type": "code",
   "execution_count": 3,
   "metadata": {
    "collapsed": false,
    "scrolled": true
   },
   "outputs": [
    {
     "name": "stdout",
     "output_type": "stream",
     "text": [
      "run into process_train_woe: \n",
      " Sat Mar  2 16:57:45 2019\n",
      "------------------Changing Feature Dtypes-------------------\n",
      "msk_mth_since_last_limit_review              float64\n",
      "msk_age                                      float64\n",
      "msk_bank_tenor                               float64\n",
      "target                                         int64\n",
      "------------Variable Dtypes Have Been Specified-------------\n",
      "process woe transformation of continuous variables: \n",
      " Sat Mar  2 16:57:45 2019\n",
      "cfg.global_bt 200\n",
      "cfg.global_gt 3197\n",
      "process continuous variable:msk_mth_since_last_limit_review-\n",
      "------------process continuous variable:msk_age-------------\n",
      "---------process continuous variable:msk_bank_tenor---------\n",
      "process woe transformation of discrete variables: \n",
      " Sat Mar  2 16:57:54 2019\n",
      "msk_mth_since_last_limit_review\n",
      "msk_age\n",
      "msk_bank_tenor\n",
      "save woe transformation rule into pickle: \n",
      " Sat Mar  2 16:57:54 2019\n"
     ]
    },
    {
     "ename": "NameError",
     "evalue": "name 'tran_data' is not defined",
     "output_type": "error",
     "traceback": [
      "\u001b[0;31m---------------------------------------------------------------------------\u001b[0m",
      "\u001b[0;31mNameError\u001b[0m                                 Traceback (most recent call last)",
      "\u001b[0;32m<ipython-input-3-800698515ff3>\u001b[0m in \u001b[0;36m<module>\u001b[0;34m()\u001b[0m\n\u001b[1;32m      6\u001b[0m \u001b[0mbins_age\u001b[0m \u001b[1;33m=\u001b[0m \u001b[1;33m[\u001b[0m\u001b[1;33m-\u001b[0m\u001b[1;36m1\u001b[0m\u001b[1;33m,\u001b[0m \u001b[1;36m30.5\u001b[0m\u001b[1;33m,\u001b[0m \u001b[1;36m65.5\u001b[0m\u001b[1;33m,\u001b[0m\u001b[1;36m900\u001b[0m\u001b[1;33m]\u001b[0m\u001b[1;33m\u001b[0m\u001b[0m\n\u001b[1;32m      7\u001b[0m \u001b[0mgroup_age\u001b[0m \u001b[1;33m=\u001b[0m \u001b[1;33m[\u001b[0m\u001b[1;36m0\u001b[0m\u001b[1;33m,\u001b[0m \u001b[1;36m1\u001b[0m\u001b[1;33m,\u001b[0m \u001b[1;36m2\u001b[0m\u001b[1;33m]\u001b[0m\u001b[1;33m\u001b[0m\u001b[0m\n\u001b[0;32m----> 8\u001b[0;31m \u001b[0mdatagroup\u001b[0m \u001b[1;33m=\u001b[0m \u001b[0mpd\u001b[0m\u001b[1;33m.\u001b[0m\u001b[0mcut\u001b[0m\u001b[1;33m(\u001b[0m\u001b[0mtran_data\u001b[0m\u001b[1;33m[\u001b[0m\u001b[1;34m'msk_age'\u001b[0m\u001b[1;33m]\u001b[0m\u001b[1;33m,\u001b[0m \u001b[0mbins_age\u001b[0m\u001b[1;33m,\u001b[0m \u001b[0mlabels\u001b[0m\u001b[1;33m=\u001b[0m\u001b[0mgroup_age\u001b[0m\u001b[1;33m)\u001b[0m\u001b[1;33m\u001b[0m\u001b[0m\n\u001b[0m\u001b[1;32m      9\u001b[0m \u001b[1;32mtry\u001b[0m\u001b[1;33m:\u001b[0m\u001b[1;33m\u001b[0m\u001b[0m\n\u001b[1;32m     10\u001b[0m     \u001b[0mtran_data\u001b[0m\u001b[1;33m.\u001b[0m\u001b[0mdrop\u001b[0m\u001b[1;33m(\u001b[0m\u001b[1;34m'group_age'\u001b[0m\u001b[1;33m,\u001b[0m \u001b[0maxis\u001b[0m\u001b[1;33m=\u001b[0m\u001b[1;36m1\u001b[0m\u001b[1;33m,\u001b[0m \u001b[0minplace\u001b[0m\u001b[1;33m=\u001b[0m\u001b[1;32mTrue\u001b[0m\u001b[1;33m)\u001b[0m\u001b[1;33m\u001b[0m\u001b[0m\n",
      "\u001b[0;31mNameError\u001b[0m: name 'tran_data' is not defined"
     ]
    }
   ],
   "source": [
    "import woe.feature_process as fp\n",
    "import pandas as pd\n",
    "feature_detail, rst = fp.process_train_woe(infile_path='woe_data_in.csv', config_path='woe_config.csv',\n",
    "                                           outfile_path='woe_data_out.csv', rst_path='woe_pkl.pkl')\n",
    "\n",
    "bins_age = [-1, 30.5, 65.5,900]\n",
    "group_age = [0, 1, 2]\n",
    "datagroup = pd.cut(tran_data['msk_age'], bins_age, labels=group_age)\n",
    "try:\n",
    "    tran_data.drop('group_age', axis=1, inplace=True)\n",
    "except:\n",
    "    print('drop group_age failed')\n",
    "tran_data.insert(0, 'group_age', datagroup)\n",
    "cols_type.append('group_age')\n",
    "cols_series.remove('msk_age')"
   ]
  },
  {
   "cell_type": "code",
   "execution_count": null,
   "metadata": {
    "collapsed": true
   },
   "outputs": [],
   "source": []
  }
 ],
 "metadata": {
  "kernelspec": {
   "display_name": "Python 3",
   "language": "python",
   "name": "python3"
  },
  "language_info": {
   "codemirror_mode": {
    "name": "ipython",
    "version": 3
   },
   "file_extension": ".py",
   "mimetype": "text/x-python",
   "name": "python",
   "nbconvert_exporter": "python",
   "pygments_lexer": "ipython3",
   "version": "3.6.0"
  }
 },
 "nbformat": 4,
 "nbformat_minor": 2
}
