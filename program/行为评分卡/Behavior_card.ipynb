{
 "cells": [
  {
   "cell_type": "code",
   "execution_count": 1,
   "metadata": {
    "collapsed": false
   },
   "outputs": [
    {
     "name": "stdout",
     "output_type": "stream",
     "text": [
      "maxDelqL1M\n",
      "0    0.102087\n",
      "1    0.109065\n",
      "2    0.514403\n",
      "3    0.956710\n",
      "Name: label, dtype: float64\n",
      "maxDelqL3M\n",
      "0    0.047477\n",
      "1    0.050318\n",
      "2    0.434509\n",
      "3    0.958009\n",
      "Name: label, dtype: float64\n",
      "maxDelqL6M\n",
      "0    0.047886\n",
      "1    0.050380\n",
      "2    0.265044\n",
      "3    0.549407\n",
      "Name: label, dtype: float64\n",
      "maxDelqL12M\n",
      "0    0.070175\n",
      "1    0.044748\n",
      "2    0.182365\n",
      "3    0.380687\n",
      "Name: label, dtype: float64\n"
     ]
    }
   ],
   "source": [
    "import pandas as pd\n",
    "import numpy as np\n",
    "from sklearn.model_selection import train_test_split\n",
    "from statsmodels.stats.outliers_influence import variance_inflation_factor\n",
    "import statsmodels.api as sm\n",
    "from sklearn import ensemble\n",
    "import matplotlib.pyplot as plt\n",
    "import seaborn as sns\n",
    "from sklearn.metrics import roc_auc_score\n",
    "import scorecard_function\n",
    "\n",
    "\n",
    "def DelqFeatures(event,window,type):\n",
    "    current = 12\n",
    "    start = 12 - window + 1\n",
    "    delq1 = [event[a] for a in ['Delq1_' + str(t) for t in range(current, start - 1, -1)]]\n",
    "    delq2 = [event[a] for a in ['Delq2_' + str(t) for t in range(current, start - 1, -1)]]\n",
    "    delq3 = [event[a] for a in ['Delq3_' + str(t) for t in range(current, start - 1, -1)]]\n",
    "    if type == 'max delq':\n",
    "        if max(delq3) == 1:\n",
    "            return 3\n",
    "        elif max(delq2) == 1:\n",
    "            return 2\n",
    "        elif max(delq1) == 1:\n",
    "            return 1\n",
    "        else:\n",
    "            return 0\n",
    "    if type in ['M0 times','M1 times', 'M2 times']:\n",
    "        if type.find('M0')>-1:\n",
    "            return sum(delq1)\n",
    "        elif type.find('M1')>-1:\n",
    "            return sum(delq2)\n",
    "        else:\n",
    "            return sum(delq3)\n",
    "\n",
    "def UrateFeatures(event, window, type):\n",
    "    current = 12\n",
    "    start = 12 - window + 1\n",
    "    monthlySpend = [event[a] for a in ['Spend_' + str(t) for t in range(current, start - 1, -1)]]\n",
    "    limit = event['Loan_Amount']\n",
    "    monthlyUrate = [x / limit for x in monthlySpend]\n",
    "    if type == 'mean utilization rate':\n",
    "        return np.mean(monthlyUrate)\n",
    "    if type == 'max utilization rate':\n",
    "        return max(monthlyUrate)\n",
    "    if type == 'increase utilization rate':\n",
    "        currentUrate = monthlyUrate[0:-1]\n",
    "        previousUrate = monthlyUrate[1:]\n",
    "        compareUrate = [int(x[0]>x[1]) for x in zip(currentUrate,previousUrate)]\n",
    "        return sum(compareUrate)\n",
    "\n",
    "def PaymentFeatures(event, window, type):\n",
    "    current = 12\n",
    "    start = 12 - window + 1\n",
    "    currentPayment = [event[a] for a in ['Payment_' + str(t) for t in range(current, start - 1, -1)]]\n",
    "    previousOS = [event[a] for a in ['OS_' + str(t) for t in range(current-1, start - 2, -1)]]\n",
    "    monthlyPayRatio = []\n",
    "    for Pay_OS in zip(currentPayment,previousOS):\n",
    "        if Pay_OS[1]>0:\n",
    "            payRatio = Pay_OS[0]*1.0 / Pay_OS[1]\n",
    "            monthlyPayRatio.append(payRatio)\n",
    "        else:\n",
    "            monthlyPayRatio.append(1)\n",
    "    if type == 'min payment ratio':\n",
    "        return min(monthlyPayRatio)\n",
    "    if type == 'max payment ratio':\n",
    "        return max(monthlyPayRatio)\n",
    "    if type == 'mean payment ratio':\n",
    "        total_payment = sum(currentPayment)\n",
    "        total_OS = sum(previousOS)\n",
    "        if total_OS > 0:\n",
    "            return total_payment / total_OS\n",
    "        else:\n",
    "            return 1\n",
    "\n",
    "#################################\n",
    "#   1, 读取数据，衍生初始变量   #\n",
    "#################################\n",
    "#folderOfData = r'F:\\py\\program\\行为评分卡'\n",
    "\n",
    "#trainData = pd.read_csv(folderOfData+'\\trainData.csv',header = 0)\n",
    "#testData = pd.read_csv(folderOfData+'\\testData.csv',header = 0)\n",
    "trainData = pd.read_csv('trainData.csv',header = 0)\n",
    "testData = pd.read_csv('testData.csv',header = 0)\n",
    "\n",
    "allFeatures = []\n",
    "'''\n",
    "逾期类型的特征在行为评分卡（预测违约行为）中，一般是非常显著的变量。\n",
    "通过设定时间窗口，可以衍生以下类型的逾期变量：\n",
    "'''\n",
    "# 考虑过去1个月，3个月，6个月，12个月\n",
    "for t in [1,3,6,12]:\n",
    "    # 1，过去t时间窗口内的最大逾期状态\n",
    "    allFeatures.append('maxDelqL'+str(t)+\"M\")\n",
    "    trainData['maxDelqL'+str(t)+\"M\"] = trainData.apply(lambda x: DelqFeatures(x,t,'max delq'),axis=1)\n",
    "\n",
    "    # 2，过去t时间窗口内的，M0,M1,M2的次数\n",
    "    allFeatures.append('M0FreqL' + str(t) + \"M\")\n",
    "    trainData['M0FreqL' + str(t) + \"M\"] = trainData.apply(lambda x: DelqFeatures(x,t,'M0 times'),axis=1)\n",
    "\n",
    "    allFeatures.append('M1FreqL' + str(t) + \"M\")\n",
    "    trainData['M1FreqL' + str(t) + \"M\"] = trainData.apply(lambda x: DelqFeatures(x, t, 'M1 times'), axis=1)\n",
    "\n",
    "    allFeatures.append('M2FreqL' + str(t) + \"M\")\n",
    "    trainData['M2FreqL' + str(t) + \"M\"] = trainData.apply(lambda x: DelqFeatures(x, t, 'M2 times'), axis=1)\n",
    "\n",
    "\n",
    "\n",
    "'''\n",
    "额度使用率类型特征在行为评分卡模型中，通常是与违约高度相关的\n",
    "'''\n",
    "# 考虑过去1个月，3个月，6个月，12个月\n",
    "for t in [1,3,6,12]:\n",
    "    # 1，过去t时间窗口内的最大月额度使用率\n",
    "    allFeatures.append('maxUrateL' + str(t) + \"M\")\n",
    "    trainData['maxUrateL' + str(t) + \"M\"] = trainData.apply(lambda x: UrateFeatures(x,t,'max utilization rate'),axis = 1)\n",
    "\n",
    "    # 2，过去t时间窗口内的平均月额度使用率\n",
    "    allFeatures.append('avgUrateL' + str(t) + \"M\")\n",
    "    trainData['avgUrateL' + str(t) + \"M\"] = trainData.apply(lambda x: UrateFeatures(x, t, 'mean utilization rate'),\n",
    "                                                            axis=1)\n",
    "\n",
    "    # 3，过去t时间窗口内，月额度使用率增加的月份。该变量要求t>1\n",
    "    if t > 1:\n",
    "        allFeatures.append('increaseUrateL' + str(t) + \"M\")\n",
    "        trainData['increaseUrateL' + str(t) + \"M\"] = trainData.apply(lambda x: UrateFeatures(x, t, 'increase utilization rate'),\n",
    "                                                                axis=1)\n",
    "\n",
    "'''\n",
    "还款类型特征也是行为评分卡模型中常用的特征\n",
    "'''\n",
    "# 考虑过去1个月，3个月，6个月，12个月\n",
    "for t in [1,3,6,12]:\n",
    "    # 1，过去t时间窗口内的最大月还款率\n",
    "    allFeatures.append('maxPayL' + str(t) + \"M\")\n",
    "    trainData['maxPayL' + str(t) + \"M\"] = trainData.apply(lambda x: PaymentFeatures(x, t, 'max payment ratio'),\n",
    "                                                            axis=1)\n",
    "\n",
    "    # 2，过去t时间窗口内的最小月还款率\n",
    "    allFeatures.append('minPayL' + str(t) + \"M\")\n",
    "    trainData['minPayL' + str(t) + \"M\"] = trainData.apply(lambda x: PaymentFeatures(x, t, 'min payment ratio'),\n",
    "                                                          axis=1)\n",
    "\n",
    "    # 3，过去t时间窗口内的平均月还款率\n",
    "    allFeatures.append('avgPayL' + str(t) + \"M\")\n",
    "    trainData['avgPayL' + str(t) + \"M\"] = trainData.apply(lambda x: PaymentFeatures(x, t, 'mean payment ratio'),\n",
    "                                                          axis=1)\n",
    "\n",
    "\n",
    "'''\n",
    "类别型变量：过去t时间内最大的逾期状态\n",
    "需要检查与bad的相关度\n",
    "'''\n",
    "print(trainData.groupby(['maxDelqL1M'])['label'].mean())\n",
    "print(trainData.groupby(['maxDelqL3M'])['label'].mean())\n",
    "print(trainData.groupby(['maxDelqL6M'])['label'].mean())\n",
    "print(trainData.groupby(['maxDelqL12M'])['label'].mean())\n",
    "\n",
    "\n",
    "\n",
    "\n",
    "\n"
   ]
  },
  {
   "cell_type": "code",
   "execution_count": 2,
   "metadata": {
    "collapsed": false
   },
   "outputs": [
    {
     "name": "stdout",
     "output_type": "stream",
     "text": [
      "['M1FreqL3M', 'M2FreqL3M', 'maxDelqL12M']\n"
     ]
    }
   ],
   "source": [
    "############################\n",
    "#   2, 分箱，计算WOE并编码   #\n",
    "############################\n",
    "'''\n",
    "对类别型变量的分箱和WOE计算\n",
    "可以通过计算取值个数的方式判断是否是类别型变量\n",
    "'''\n",
    "categoricalFeatures = []\n",
    "numericalFeatures = []\n",
    "WOE_IV_dict = {}\n",
    "for var in allFeatures:\n",
    "    if len(set(trainData[var])) > 5:\n",
    "        numericalFeatures.append(var)\n",
    "    else:\n",
    "        categoricalFeatures.append(var)\n",
    "not_monotone =[]\n",
    "for var in categoricalFeatures:\n",
    "    #检查bad rate在箱中的单调性\n",
    "    if not scorecard_function.BadRateMonotone(trainData, var, 'label'):\n",
    "        not_monotone.append(var)\n",
    "print(not_monotone)"
   ]
  },
  {
   "cell_type": "code",
   "execution_count": 3,
   "metadata": {
    "collapsed": false
   },
   "outputs": [
    {
     "data": {
      "text/plain": [
       "M2FreqL3M\n",
       "0    27456\n",
       "1      585\n",
       "2       55\n",
       "3        3\n",
       "Name: label, dtype: int64"
      ]
     },
     "execution_count": 3,
     "metadata": {},
     "output_type": "execute_result"
    }
   ],
   "source": [
    "trainData.groupby(['M2FreqL3M'])['label'].count()   #其中，M2FreqL3M＝3总共只有3个样本，因此要进行合并"
   ]
  },
  {
   "cell_type": "code",
   "execution_count": 4,
   "metadata": {
    "collapsed": false
   },
   "outputs": [
    {
     "name": "stdout",
     "output_type": "stream",
     "text": [
      "M1FreqL3M\n",
      "0    0.049511\n",
      "1    0.409583\n",
      "2    0.930825\n",
      "3    0.927083\n",
      "Name: label, dtype: float64\n",
      "M1FreqL3M\n",
      "0    22379\n",
      "1     4800\n",
      "2      824\n",
      "3       96\n",
      "Name: label, dtype: int64\n"
     ]
    }
   ],
   "source": [
    "# 将 M2FreqL3M>=1的合并为一组，计算WOE和IV\n",
    "trainData['M2FreqL3M_Bin'] = trainData['M2FreqL3M'].apply(lambda x: int(x>=1))\n",
    "trainData.groupby(['M2FreqL3M_Bin'])['label'].mean()\n",
    "WOE_IV_dict['M2FreqL3M_Bin'] = scorecard_function.CalcWOE(trainData, 'M2FreqL3M_Bin', 'label')\n",
    "\n",
    "#检查M1FreqL3M单调性\n",
    "print(trainData.groupby(['M1FreqL3M'])['label'].mean())  \n",
    "print(trainData.groupby(['M1FreqL3M'])['label'].count())"
   ]
  },
  {
   "cell_type": "code",
   "execution_count": 6,
   "metadata": {
    "collapsed": true
   },
   "outputs": [],
   "source": [
    "trainData['M1FreqL3M_Bin'] = trainData['M1FreqL3M'].apply(lambda x: int(x>=1))\n",
    "trainData.groupby(['M1FreqL3M_Bin'])['label'].mean()\n",
    "WOE_IV_dict['M1FreqL3M_Bin'] = scorecard_function.CalcWOE(trainData, 'M1FreqL3M_Bin', 'label')"
   ]
  },
  {
   "cell_type": "code",
   "execution_count": 7,
   "metadata": {
    "collapsed": false
   },
   "outputs": [
    {
     "data": {
      "text/plain": [
       "{'M1FreqL3M_Bin': {'IV': 1.7515413713105232,\n",
       "  'WOE': {0: 1.1383566599817516, 1: -1.7898564039068015}},\n",
       " 'M2FreqL3M_Bin': {'IV': 0.79574732036209472,\n",
       "  'WOE': {0: 0.16936574889989445, 1: -4.9438414919038607}}}"
      ]
     },
     "execution_count": 7,
     "metadata": {},
     "output_type": "execute_result"
    }
   ],
   "source": [
    "WOE_IV_dict"
   ]
  },
  {
   "cell_type": "code",
   "execution_count": 8,
   "metadata": {
    "collapsed": false
   },
   "outputs": [
    {
     "name": "stdout",
     "output_type": "stream",
     "text": [
      "{'maxDelqL1M': {0: 0.60379372931421049, 1: 0.31880138083205806, 2: 0.069183956724438597, 3: 0.0082209331292928574}}\n",
      "{'M2FreqL1M': {0: 0.99177906687070716, 1: 0.0082209331292928574}}\n",
      "{'maxDelqL3M': {0: 0.22637816292394747, 1: 0.57005587387451506, 2: 0.18068258656891703, 3: 0.022883376632620377}}\n",
      "{'maxDelqL6M': {0: 0.057226235809103528, 1: 0.58489625965336844, 2: 0.31285810882949572, 3: 0.045019395708032317}}\n",
      "{'M2FreqL6M': {0: 0.95498060429196774, 1: 0.04003701199330937, 2: 0.0045909107085661408, 3: 0.00032029609594647497, 4: 7.1176910210327775e-05}}\n",
      "{'M2FreqL12M': {0: 0.92334246770347694, 1: 0.066514822591551295, 2: 0.0092174098722374465, 3: 0.00081853446741876937, 4: 0.00010676536531549166}}\n"
     ]
    }
   ],
   "source": [
    "'''\n",
    "对其他单调的类别型变量，检查是否有一箱的占比低于5%。 如果有，将该变量进行合并\n",
    "'''\n",
    "small_bin_var = []\n",
    "large_bin_var = []\n",
    "N = trainData.shape[0]\n",
    "for var in categoricalFeatures:\n",
    "    if var not in not_monotone:\n",
    "        total = trainData.groupby([var])[var].count()\n",
    "        pcnt = total * 1.0 / N\n",
    "        if min(pcnt)<0.05:\n",
    "            small_bin_var.append({var:pcnt.to_dict()})\n",
    "        else:\n",
    "            large_bin_var.append(var)\n",
    "for i in small_bin_var:\n",
    "    print (i)"
   ]
  },
  {
   "cell_type": "code",
   "execution_count": 9,
   "metadata": {
    "collapsed": true
   },
   "outputs": [],
   "source": [
    "#对于M2FreqL1M、M2FreqL6M和M2FreqL12M，由于有部分箱占了很大比例，故删除\n",
    "allFeatures.remove('M2FreqL1M')\n",
    "allFeatures.remove('M2FreqL6M')\n",
    "allFeatures.remove('M2FreqL12M')\n",
    "#对于small_bin_var中的其他变量，将最小的箱和相邻的箱进行合并并计算WOE\n",
    "trainData['maxDelqL1M_Bin'] = trainData['maxDelqL1M'].apply(lambda x: scorecard_function.MergeByCondition(x, ['==0', '==1', '>=2']))\n",
    "trainData['maxDelqL3M_Bin'] = trainData['maxDelqL3M'].apply(lambda x: scorecard_function.MergeByCondition(x, ['==0', '==1', '>=2']))\n",
    "trainData['maxDelqL6M_Bin'] = trainData['maxDelqL6M'].apply(lambda x: scorecard_function.MergeByCondition(x, ['==0', '==1', '>=2']))\n",
    "for var in ['maxDelqL1M_Bin','maxDelqL3M_Bin','maxDelqL6M_Bin']:\n",
    "    WOE_IV_dict[var] = scorecard_function.CalcWOE(trainData, var, 'label')\n",
    "\n",
    "\n",
    "'''\n",
    "对于不需要合并、原始箱的bad rate单调的特征，直接计算WOE和IV\n",
    "'''\n",
    "for var in large_bin_var:\n",
    "    WOE_IV_dict[var] = scorecard_function.CalcWOE(trainData, var, 'label')\n",
    "\n",
    "\n",
    "'''\n",
    "对于数值型变量，需要先分箱，再计算WOE、IV\n",
    "分箱的结果需要满足：\n",
    "1，箱数不超过5\n",
    "2，bad rate单调\n",
    "3，每箱占比不低于5%\n",
    "'''\n",
    "bin_dict = []\n",
    "for var in numericalFeatures:\n",
    "    binNum = 5\n",
    "    newBin = var + '_Bin'\n",
    "    bin = scorecard_function.ChiMerge(trainData, var, 'label', max_interval=binNum, minBinPcnt = 0.05)\n",
    "    trainData[newBin] = trainData[var].apply(lambda x: scorecard_function.AssignBin(x, bin))\n",
    "    # 如果不满足单调性，就降低分箱个数\n",
    "    while not scorecard_function.BadRateMonotone(trainData, newBin, 'label'):\n",
    "        binNum -= 1\n",
    "        bin = scorecard_function.ChiMerge(trainData, var, 'label', max_interval=binNum, minBinPcnt=0.05)\n",
    "        trainData[newBin] = trainData[var].apply(lambda x: scorecard_function.AssignBin(x, bin))\n",
    "    WOE_IV_dict[newBin] = scorecard_function.CalcWOE(trainData, newBin, 'label')\n",
    "    bin_dict.append({var:bin})"
   ]
  },
  {
   "cell_type": "code",
   "execution_count": 10,
   "metadata": {
    "collapsed": true
   },
   "outputs": [],
   "source": [
    "%matplotlib inline"
   ]
  },
  {
   "cell_type": "code",
   "execution_count": 11,
   "metadata": {
    "collapsed": false
   },
   "outputs": [
    {
     "data": {
      "text/plain": [
       "<matplotlib.axes._subplots.AxesSubplot at 0x181c4be4470>"
      ]
     },
     "execution_count": 11,
     "metadata": {},
     "output_type": "execute_result"
    },
    {
     "data": {
      "image/png": "[encoded data removed]",
      "text/plain": [
       "<matplotlib.figure.Figure at 0x181c4bec5c0>"
      ]
     },
     "metadata": {},
     "output_type": "display_data"
    }
   ],
   "source": [
    "##############################\n",
    "#   3, 单变量分析和多变量分析   #\n",
    "##############################\n",
    "#  选取IV高于0.02的变量\n",
    "high_IV = [(k,v['IV']) for k,v in WOE_IV_dict.items() if v['IV'] >= 0.02]\n",
    "high_IV_sorted = sorted(high_IV, key=lambda k: k[1],reverse=True)\n",
    "for (var,iv) in high_IV:\n",
    "    newVar = var+\"_WOE\"\n",
    "    trainData[newVar] = trainData[var].map(lambda x: WOE_IV_dict[var]['WOE'][x])\n",
    "'''\n",
    "多变量分析：比较两两线性相关性。如果相关系数的绝对值高于阈值，剔除IV较低的一个\n",
    "'''\n",
    "deleted_index = []\n",
    "cnt_vars = len(high_IV_sorted)\n",
    "for i in range(cnt_vars):\n",
    "    if i in deleted_index:\n",
    "        continue\n",
    "    x1 = high_IV_sorted[i][0]+\"_WOE\"\n",
    "    for j in range(cnt_vars):\n",
    "        if i == j or j in deleted_index:\n",
    "            continue\n",
    "        y1 = high_IV_sorted[j][0]+\"_WOE\"\n",
    "        roh = np.corrcoef(trainData[x1],trainData[y1])[0,1]\n",
    "        if abs(roh)>0.7:\n",
    "            x1_IV = high_IV_sorted[i][1]\n",
    "            y1_IV = high_IV_sorted[j][1]\n",
    "            if x1_IV > y1_IV:\n",
    "                deleted_index.append(j)\n",
    "            else:\n",
    "                deleted_index.append(i)\n",
    "\n",
    "single_analysis_vars = [high_IV_sorted[i][0]+\"_WOE\" for i in range(cnt_vars) if i not in deleted_index]\n",
    "\n",
    "\n",
    "X = trainData[single_analysis_vars]\n",
    "f, ax = plt.subplots(figsize=(10, 8))\n",
    "corr = X.corr()\n",
    "sns.heatmap(corr, mask=np.zeros_like(corr, dtype=np.bool), cmap=sns.diverging_palette(220, 10, as_cmap=True),square=True, ax=ax)"
   ]
  },
  {
   "cell_type": "code",
   "execution_count": 12,
   "metadata": {
    "collapsed": false
   },
   "outputs": [
    {
     "name": "stdout",
     "output_type": "stream",
     "text": [
      "3.42877127102\n"
     ]
    }
   ],
   "source": [
    "'''\n",
    "多变量分析：VIF\n",
    "'''\n",
    "X = np.matrix(trainData[single_analysis_vars])\n",
    "VIF_list = [variance_inflation_factor(X, i) for i in range(X.shape[1])]\n",
    "print (max(VIF_list))\n",
    "# 最大的VIF是 3.429，小于10，因此这一步认为没有多重共线性\n",
    "multi_analysis = single_analysis_vars"
   ]
  },
  {
   "cell_type": "code",
   "execution_count": 13,
   "metadata": {
    "collapsed": false
   },
   "outputs": [
    {
     "name": "stdout",
     "output_type": "stream",
     "text": [
      "Optimization terminated successfully.\n",
      "         Current function value: 0.257556\n",
      "         Iterations 7\n",
      "                               coef        p-value\n",
      "intercept                 -1.816283   0.000000e+00\n",
      "increaseUrateL6M_Bin_WOE  -1.173992   1.903327e-51\n",
      "maxDelqL3M_Bin_WOE        -0.743386  9.651350e-168\n",
      "M2FreqL3M_Bin_WOE         -0.681728   6.707808e-64\n",
      "avgUrateL1M_Bin_WOE       -0.661764   1.130685e-11\n",
      "avgUrateL3M_Bin_WOE       -0.526255   2.215594e-06\n",
      "M0FreqL3M_WOE             -0.457005   4.802085e-39\n",
      "avgUrateL6M_Bin_WOE       -0.194809   2.415588e-01\n",
      "M1FreqL6M_Bin_WOE         -0.152977   2.393983e-05\n",
      "maxDelqL1M_Bin_WOE        -0.139531   3.646633e-06\n",
      "maxPayL6M_Bin_WOE         -0.136920   4.660105e-02\n",
      "maxUrateL6M_Bin_WOE       -0.123916   3.453710e-01\n",
      "avgPayL12M_Bin_WOE        -0.085567   6.952669e-02\n",
      "increaseUrateL12M_Bin_WOE -0.038580   7.057984e-01\n",
      "maxPayL12M_Bin_WOE        -0.023687   8.302923e-01\n",
      "increaseUrateL3M_WOE       0.001685   9.871766e-01\n",
      "minPayL6M_Bin_WOE          0.107551   3.110541e-01\n",
      "avgUrateL12M_Bin_WOE       0.128357   5.123554e-01\n",
      "avgPayL1M_Bin_WOE          0.136635   5.900964e-02\n",
      "M0FreqL6M_Bin_WOE          0.153221   1.010475e-03\n",
      "minPayL3M_Bin_WOE          0.202898   9.043896e-04\n"
     ]
    },
    {
     "name": "stderr",
     "output_type": "stream",
     "text": [
      "C:\\ProgramData\\Anaconda3\\lib\\site-packages\\ipykernel\\__main__.py:5: SettingWithCopyWarning: \n",
      "A value is trying to be set on a copy of a slice from a DataFrame.\n",
      "Try using .loc[row_indexer,col_indexer] = value instead\n",
      "\n",
      "See the caveats in the documentation: http://pandas.pydata.org/pandas-docs/stable/indexing.html#indexing-view-versus-copy\n"
     ]
    }
   ],
   "source": [
    "################################\n",
    "#   4, 建立逻辑回归模型预测违约   #\n",
    "################################\n",
    "X = trainData[multi_analysis]\n",
    "X['intercept'] = [1] * X.shape[0]\n",
    "y = trainData['label']\n",
    "logit = sm.Logit(y, X)\n",
    "logit_result = logit.fit()\n",
    "pvalues = logit_result.pvalues\n",
    "params = logit_result.params\n",
    "fit_result = pd.concat([params,pvalues],axis=1)\n",
    "fit_result.columns = ['coef','p-value']\n",
    "fit_result = fit_result.sort_values(by = 'coef')\n",
    "print(fit_result)"
   ]
  },
  {
   "cell_type": "code",
   "execution_count": 14,
   "metadata": {
    "collapsed": false
   },
   "outputs": [
    {
     "name": "stdout",
     "output_type": "stream",
     "text": [
      "Optimization terminated successfully.\n",
      "         Current function value: 0.682128\n",
      "         Iterations 4\n",
      "increaseUrateL3M_WOE   -0.995312\n",
      "dtype: float64\n",
      "Optimization terminated successfully.\n",
      "         Current function value: 0.686302\n",
      "         Iterations 5\n",
      "minPayL6M_Bin_WOE   -0.807779\n",
      "dtype: float64\n",
      "Optimization terminated successfully.\n",
      "         Current function value: 0.690373\n",
      "         Iterations 4\n",
      "avgUrateL12M_Bin_WOE   -1.0179\n",
      "dtype: float64\n",
      "Optimization terminated successfully.\n",
      "         Current function value: 0.671181\n",
      "         Iterations 4\n",
      "minPayL1M_Bin_WOE   -0.969236\n",
      "dtype: float64\n",
      "Optimization terminated successfully.\n",
      "         Current function value: 0.613547\n",
      "         Iterations 5\n",
      "M0FreqL6M_Bin_WOE   -1.032842\n",
      "dtype: float64\n",
      "Optimization terminated successfully.\n",
      "         Current function value: 0.663533\n",
      "         Iterations 5\n",
      "minPayL3M_Bin_WOE   -0.829298\n",
      "dtype: float64\n"
     ]
    }
   ],
   "source": [
    "print(sm.Logit(y, trainData['increaseUrateL3M_WOE']).fit().params)  \n",
    "print(sm.Logit(y, trainData['minPayL6M_Bin_WOE']).fit().params)  \n",
    "print(sm.Logit(y, trainData['avgUrateL12M_Bin_WOE']).fit().params) \n",
    "print(sm.Logit(y, trainData['minPayL1M_Bin_WOE']).fit().params)  \n",
    "print(sm.Logit(y, trainData['M0FreqL6M_Bin_WOE']).fit().params)  \n",
    "print(sm.Logit(y, trainData['minPayL3M_Bin_WOE']).fit().params)  "
   ]
  },
  {
   "cell_type": "code",
   "execution_count": 15,
   "metadata": {
    "collapsed": false
   },
   "outputs": [
    {
     "data": {
      "text/plain": [
       "<matplotlib.axes._subplots.AxesSubplot at 0x181c40d9550>"
      ]
     },
     "execution_count": 15,
     "metadata": {},
     "output_type": "execute_result"
    },
    {
     "data": {
      "image/png": "[encoded data removed]",
      "text/plain": [
       "<matplotlib.figure.Figure at 0x181c4be2128>"
      ]
     },
     "metadata": {},
     "output_type": "display_data"
    }
   ],
   "source": [
    "clf = ensemble.GradientBoostingClassifier()\n",
    "gbdt_model = clf.fit(X, y)\n",
    "importace = gbdt_model.feature_importances_.tolist()\n",
    "featureImportance = zip(multi_analysis,importace)\n",
    "featureImportanceSorted = sorted(featureImportance, key=lambda k: k[1],reverse=True)\n",
    "pd.DataFrame(featureImportanceSorted).plot(kind='bar')"
   ]
  },
  {
   "cell_type": "code",
   "execution_count": 16,
   "metadata": {
    "collapsed": false
   },
   "outputs": [
    {
     "name": "stdout",
     "output_type": "stream",
     "text": [
      "Optimization terminated successfully.\n",
      "         Current function value: 0.273129\n",
      "         Iterations 7\n",
      "Optimization terminated successfully.\n",
      "         Current function value: 0.272291\n",
      "         Iterations 7\n",
      "current var is  avgUrateL3M_Bin_WOE     -0.570669864576\n",
      "Optimization terminated successfully.\n",
      "         Current function value: 0.259249\n",
      "         Iterations 7\n",
      "current var is  M2FreqL3M_Bin_WOE     -0.697697001715\n",
      "Optimization terminated successfully.\n",
      "         Current function value: 0.258923\n",
      "         Iterations 7\n",
      "current var is  M1FreqL6M_Bin_WOE     -0.132593288868\n",
      "Optimization terminated successfully.\n",
      "         Current function value: 0.258479\n",
      "         Iterations 7\n",
      "current var is  maxDelqL1M_Bin_WOE     -0.134164350605\n",
      "Optimization terminated successfully.\n",
      "         Current function value: 0.258448\n",
      "         Iterations 7\n",
      "current var is  maxUrateL6M_Bin_WOE     -0.167140951473\n",
      "Optimization terminated successfully.\n",
      "         Current function value: 0.258444\n",
      "         Iterations 7\n",
      "current var is  increaseUrateL12M_Bin_WOE     -0.0469621171999\n",
      "Optimization terminated successfully.\n",
      "         Current function value: 0.258400\n",
      "         Iterations 7\n",
      "current var is  maxPayL6M_Bin_WOE     -0.0873616676246\n",
      "Optimization terminated successfully.\n",
      "         Current function value: 0.258099\n",
      "         Iterations 7\n",
      "current var is  M0FreqL6M_Bin_WOE     0.178650394849\n",
      "Optimization terminated successfully.\n",
      "         Current function value: 0.258385\n",
      "         Iterations 7\n",
      "current var is  avgUrateL6M_Bin_WOE     -0.132387231043\n",
      "Optimization terminated successfully.\n",
      "         Current function value: 0.258375\n",
      "         Iterations 7\n",
      "current var is  avgUrateL12M_Bin_WOE     0.147587237348\n",
      "Optimization terminated successfully.\n",
      "         Current function value: 0.258209\n",
      "         Iterations 7\n",
      "current var is  avgPayL1M_Bin_WOE     0.216557736162\n",
      "Optimization terminated successfully.\n",
      "         Current function value: 0.258384\n",
      "         Iterations 7\n",
      "current var is  increaseUrateL3M_WOE     0.0143557317566\n",
      "Optimization terminated successfully.\n",
      "         Current function value: 0.258181\n",
      "         Iterations 7\n",
      "current var is  minPayL6M_Bin_WOE     0.334957223281\n",
      "Optimization terminated successfully.\n",
      "         Current function value: 0.258379\n",
      "         Iterations 7\n",
      "current var is  avgPayL12M_Bin_WOE     -0.0256711147438\n",
      "Optimization terminated successfully.\n",
      "         Current function value: 0.258379\n",
      "         Iterations 7\n",
      "current var is  maxPayL12M_Bin_WOE     -0.000266919086793\n",
      "Optimization terminated successfully.\n",
      "         Current function value: 0.257850\n",
      "         Iterations 7\n",
      "current var is  minPayL3M_Bin_WOE     0.292390592543\n",
      "Optimization terminated successfully.\n",
      "         Current function value: 0.258379\n",
      "         Iterations 7\n",
      "                               coef        p-value\n",
      "intercept                 -1.813617   0.000000e+00\n",
      "maxDelqL3M_Bin_WOE        -0.744150  3.663659e-189\n",
      "M2FreqL3M_Bin_WOE         -0.683046   1.172231e-64\n",
      "increaseUrateL6M_Bin_WOE  -1.168962   5.141206e-60\n",
      "M0FreqL3M_WOE             -0.340708   4.818643e-33\n",
      "avgUrateL1M_Bin_WOE       -0.659966   1.367724e-14\n",
      "maxDelqL1M_Bin_WOE        -0.136424   4.132263e-07\n",
      "avgUrateL3M_Bin_WOE       -0.510752   1.750319e-06\n",
      "M1FreqL6M_Bin_WOE         -0.113140   5.226974e-04\n",
      "maxPayL6M_Bin_WOE         -0.072493   2.775523e-01\n",
      "maxUrateL6M_Bin_WOE       -0.132056   3.133307e-01\n",
      "avgUrateL6M_Bin_WOE       -0.131046   3.647205e-01\n",
      "avgPayL12M_Bin_WOE        -0.025650   5.678689e-01\n",
      "increaseUrateL12M_Bin_WOE -0.032659   7.470968e-01\n",
      "maxPayL12M_Bin_WOE        -0.000267   9.980452e-01\n"
     ]
    }
   ],
   "source": [
    "# 先假定模型可以容纳4个特征，再逐步增加特征个数，直到有特征的系数为正，或者p值超过0.1\n",
    "n = 4\n",
    "featureSelected = [i[0] for i in featureImportanceSorted[:n]]\n",
    "X_train = X[featureSelected+['intercept']]\n",
    "logit = sm.Logit(y, X_train)\n",
    "logit_result = logit.fit()\n",
    "pvalues = logit_result.pvalues\n",
    "params = logit_result.params\n",
    "fit_result = pd.concat([params,pvalues],axis=1)\n",
    "fit_result.columns = ['coef','p-value']\n",
    "'''\n",
    "                              coef       p-value\n",
    "maxDelqL3M_Bin_WOE       -0.895654  0.000000e+00\n",
    "increaseUrateL6M_Bin_WOE -1.084713  1.623441e-84\n",
    "M0FreqL3M_WOE            -0.436273  1.556517e-74\n",
    "avgUrateL1M_Bin_WOE      -0.629355  7.146665e-16\n",
    "avgUrateL3M_Bin_WOE      -0.570670  8.207241e-12\n",
    "intercept                -1.831752  0.000000e+00\n",
    "'''\n",
    "while(n<len(featureImportanceSorted)):\n",
    "    nextVar = featureImportanceSorted[n][0]\n",
    "    featureSelected = featureSelected + [nextVar]\n",
    "    X_train = X[featureSelected+['intercept']]\n",
    "    logit = sm.Logit(y, X_train)\n",
    "    logit_result = logit.fit()\n",
    "    params = logit_result.params\n",
    "    print (\"current var is \",nextVar,'   ', params[nextVar])\n",
    "    if max(params) < 0:\n",
    "        n += 1\n",
    "    else:\n",
    "        featureSelected.remove(nextVar)\n",
    "        n += 1\n",
    "\n",
    "X_train = X[featureSelected+['intercept']]\n",
    "logit = sm.Logit(y, X_train)\n",
    "logit_result = logit.fit()\n",
    "pvalues = logit_result.pvalues\n",
    "params = logit_result.params\n",
    "fit_result = pd.concat([params,pvalues],axis=1)\n",
    "fit_result.columns = ['coef','p-value']\n",
    "fit_result = fit_result.sort_values(by  = 'p-value')\n",
    "print(fit_result)"
   ]
  },
  {
   "cell_type": "code",
   "execution_count": 17,
   "metadata": {
    "collapsed": false
   },
   "outputs": [
    {
     "name": "stdout",
     "output_type": "stream",
     "text": [
      "Optimization terminated successfully.    (Exit mode 0)\n",
      "            Current function value: 0.279090910648\n",
      "            Iterations: 79\n",
      "            Function evaluations: 79\n",
      "            Gradient evaluations: 79\n",
      "Optimization terminated successfully.    (Exit mode 0)\n",
      "            Current function value: 0.278901609505\n",
      "            Iterations: 80\n",
      "            Function evaluations: 80\n",
      "            Gradient evaluations: 80\n",
      "Optimization terminated successfully.    (Exit mode 0)"
     ]
    },
    {
     "name": "stderr",
     "output_type": "stream",
     "text": [
      "C:\\ProgramData\\Anaconda3\\lib\\site-packages\\scipy\\stats\\_distn_infrastructure.py:875: RuntimeWarning: invalid value encountered in greater\n",
      "  return (self.a < x) & (x < self.b)\n",
      "C:\\ProgramData\\Anaconda3\\lib\\site-packages\\scipy\\stats\\_distn_infrastructure.py:875: RuntimeWarning: invalid value encountered in less\n",
      "  return (self.a < x) & (x < self.b)\n",
      "C:\\ProgramData\\Anaconda3\\lib\\site-packages\\scipy\\stats\\_distn_infrastructure.py:1814: RuntimeWarning: invalid value encountered in less_equal\n",
      "  cond2 = cond0 & (x <= self.a)\n"
     ]
    },
    {
     "name": "stdout",
     "output_type": "stream",
     "text": [
      "\n",
      "            Current function value: 0.278711995387\n",
      "            Iterations: 79\n",
      "            Function evaluations: 80\n",
      "            Gradient evaluations: 79\n",
      "Optimization terminated successfully.    (Exit mode 0)\n",
      "            Current function value: 0.278522067587\n",
      "            Iterations: 80\n",
      "            Function evaluations: 80\n",
      "            Gradient evaluations: 80\n",
      "Optimization terminated successfully.    (Exit mode 0)\n",
      "            Current function value: 0.278331825366\n",
      "            Iterations: 80\n",
      "            Function evaluations: 80\n",
      "            Gradient evaluations: 80\n",
      "Optimization terminated successfully.    (Exit mode 0)\n",
      "            Current function value: 0.278141267966\n",
      "            Iterations: 80\n",
      "            Function evaluations: 81\n",
      "            Gradient evaluations: 80\n",
      "Optimization terminated successfully.    (Exit mode 0)\n",
      "            Current function value: 0.277950394712\n",
      "            Iterations: 81\n",
      "            Function evaluations: 82\n",
      "            Gradient evaluations: 81\n",
      "Optimization terminated successfully.    (Exit mode 0)\n",
      "            Current function value: 0.277759204868\n",
      "            Iterations: 82\n",
      "            Function evaluations: 82\n",
      "            Gradient evaluations: 82\n",
      "Optimization terminated successfully.    (Exit mode 0)\n",
      "            Current function value: 0.277567697639\n",
      "            Iterations: 82\n",
      "            Function evaluations: 83\n",
      "            Gradient evaluations: 82\n",
      "Optimization terminated successfully.    (Exit mode 0)\n",
      "            Current function value: 0.277375872342\n",
      "            Iterations: 83\n",
      "            Function evaluations: 83\n",
      "            Gradient evaluations: 83\n",
      "Optimization terminated successfully.    (Exit mode 0)\n",
      "            Current function value: 0.277183728227\n",
      "            Iterations: 84\n",
      "            Function evaluations: 84\n",
      "            Gradient evaluations: 84\n",
      "Optimization terminated successfully.    (Exit mode 0)\n",
      "            Current function value: 0.276991264492\n",
      "            Iterations: 81\n",
      "            Function evaluations: 81\n",
      "            Gradient evaluations: 81\n",
      "Optimization terminated successfully.    (Exit mode 0)\n",
      "            Current function value: 0.276798480442\n",
      "            Iterations: 80\n",
      "            Function evaluations: 81\n",
      "            Gradient evaluations: 80\n",
      "Optimization terminated successfully.    (Exit mode 0)\n",
      "            Current function value: 0.27660537531\n",
      "            Iterations: 81\n",
      "            Function evaluations: 81\n",
      "            Gradient evaluations: 81\n",
      "Optimization terminated successfully.    (Exit mode 0)\n",
      "            Current function value: 0.276411948329\n",
      "            Iterations: 81\n",
      "            Function evaluations: 81\n",
      "            Gradient evaluations: 81\n",
      "Optimization terminated successfully.    (Exit mode 0)\n",
      "            Current function value: 0.276218198721\n",
      "            Iterations: 83\n",
      "            Function evaluations: 83\n",
      "            Gradient evaluations: 83\n",
      "Optimization terminated successfully.    (Exit mode 0)\n",
      "            Current function value: 0.276024125728\n",
      "            Iterations: 82\n",
      "            Function evaluations: 82\n",
      "            Gradient evaluations: 82\n",
      "Optimization terminated successfully.    (Exit mode 0)\n",
      "            Current function value: 0.275829728584\n",
      "            Iterations: 82\n",
      "            Function evaluations: 82\n",
      "            Gradient evaluations: 82\n",
      "Optimization terminated successfully.    (Exit mode 0)\n",
      "            Current function value: 0.275635006521\n",
      "            Iterations: 82\n",
      "            Function evaluations: 82\n",
      "            Gradient evaluations: 82\n",
      "Optimization terminated successfully.    (Exit mode 0)\n",
      "            Current function value: 0.275439958741\n",
      "            Iterations: 84\n",
      "            Function evaluations: 84\n",
      "            Gradient evaluations: 84\n",
      "Optimization terminated successfully.    (Exit mode 0)\n",
      "            Current function value: 0.27524458455\n",
      "            Iterations: 77\n",
      "            Function evaluations: 77\n",
      "            Gradient evaluations: 77\n",
      "Optimization terminated successfully.    (Exit mode 0)\n",
      "            Current function value: 0.275048882918\n",
      "            Iterations: 85\n",
      "            Function evaluations: 85\n",
      "            Gradient evaluations: 85\n",
      "Optimization terminated successfully.    (Exit mode 0)\n",
      "            Current function value: 0.274852853302\n",
      "            Iterations: 86\n",
      "            Function evaluations: 86\n",
      "            Gradient evaluations: 86\n",
      "Optimization terminated successfully.    (Exit mode 0)\n",
      "            Current function value: 0.274656494806\n",
      "            Iterations: 86\n",
      "            Function evaluations: 87\n",
      "            Gradient evaluations: 86\n",
      "Optimization terminated successfully.    (Exit mode 0)\n",
      "            Current function value: 0.274459806665\n",
      "            Iterations: 87\n",
      "            Function evaluations: 87\n",
      "            Gradient evaluations: 87\n",
      "Optimization terminated successfully.    (Exit mode 0)\n",
      "            Current function value: 0.274262788042\n",
      "            Iterations: 87\n",
      "            Function evaluations: 87\n",
      "            Gradient evaluations: 87\n",
      "Optimization terminated successfully.    (Exit mode 0)\n",
      "            Current function value: 0.274065438118\n",
      "            Iterations: 87\n",
      "            Function evaluations: 88\n",
      "            Gradient evaluations: 87\n",
      "Optimization terminated successfully.    (Exit mode 0)\n",
      "            Current function value: 0.273867756174\n",
      "            Iterations: 88\n",
      "            Function evaluations: 88\n",
      "            Gradient evaluations: 88\n",
      "Optimization terminated successfully.    (Exit mode 0)\n",
      "            Current function value: 0.273669741235\n",
      "            Iterations: 87\n",
      "            Function evaluations: 87\n",
      "            Gradient evaluations: 87\n",
      "Optimization terminated successfully.    (Exit mode 0)\n",
      "            Current function value: 0.273471392607\n",
      "            Iterations: 87\n",
      "            Function evaluations: 87\n",
      "            Gradient evaluations: 87\n",
      "Optimization terminated successfully.    (Exit mode 0)\n",
      "            Current function value: 0.273272709398\n",
      "            Iterations: 88\n",
      "            Function evaluations: 88\n",
      "            Gradient evaluations: 88\n",
      "Optimization terminated successfully.    (Exit mode 0)\n",
      "            Current function value: 0.27307369083\n",
      "            Iterations: 88\n",
      "            Function evaluations: 88\n",
      "            Gradient evaluations: 88\n",
      "Optimization terminated successfully.    (Exit mode 0)\n",
      "            Current function value: 0.27287433605\n",
      "            Iterations: 88\n",
      "            Function evaluations: 88\n",
      "            Gradient evaluations: 88\n",
      "Optimization terminated successfully.    (Exit mode 0)\n",
      "            Current function value: 0.272674656944\n",
      "            Iterations: 79\n",
      "            Function evaluations: 79\n",
      "            Gradient evaluations: 79\n",
      "Optimization terminated successfully.    (Exit mode 0)\n",
      "            Current function value: 0.272474623569\n",
      "            Iterations: 79\n",
      "            Function evaluations: 79\n",
      "            Gradient evaluations: 79\n",
      "Optimization terminated successfully.    (Exit mode 0)\n",
      "            Current function value: 0.272274252238\n",
      "            Iterations: 80\n",
      "            Function evaluations: 80\n",
      "            Gradient evaluations: 80\n",
      "Optimization terminated successfully.    (Exit mode 0)\n",
      "            Current function value: 0.272073541921\n",
      "            Iterations: 79\n",
      "            Function evaluations: 80\n",
      "            Gradient evaluations: 79\n",
      "Optimization terminated successfully.    (Exit mode 0)\n",
      "            Current function value: 0.271872491628\n",
      "            Iterations: 79\n",
      "            Function evaluations: 79\n",
      "            Gradient evaluations: 79\n",
      "Optimization terminated successfully.    (Exit mode 0)\n",
      "            Current function value: 0.271671100461\n",
      "            Iterations: 80\n",
      "            Function evaluations: 80\n",
      "            Gradient evaluations: 80\n",
      "Optimization terminated successfully.    (Exit mode 0)\n",
      "            Current function value: 0.271469367626\n",
      "            Iterations: 80\n",
      "            Function evaluations: 80\n",
      "            Gradient evaluations: 80\n",
      "Optimization terminated successfully.    (Exit mode 0)\n",
      "            Current function value: 0.271267292351\n",
      "            Iterations: 80\n",
      "            Function evaluations: 80\n",
      "            Gradient evaluations: 80\n",
      "Optimization terminated successfully.    (Exit mode 0)\n",
      "            Current function value: 0.271064873853\n",
      "            Iterations: 76\n",
      "            Function evaluations: 76\n",
      "            Gradient evaluations: 76\n",
      "Optimization terminated successfully.    (Exit mode 0)\n",
      "            Current function value: 0.270862110452\n",
      "            Iterations: 82\n",
      "            Function evaluations: 82\n",
      "            Gradient evaluations: 82\n",
      "Optimization terminated successfully.    (Exit mode 0)\n",
      "            Current function value: 0.270659002054\n",
      "            Iterations: 82\n",
      "            Function evaluations: 82\n",
      "            Gradient evaluations: 82\n",
      "Optimization terminated successfully.    (Exit mode 0)\n",
      "            Current function value: 0.27045554773\n",
      "            Iterations: 82\n",
      "            Function evaluations: 82\n",
      "            Gradient evaluations: 82\n",
      "Optimization terminated successfully.    (Exit mode 0)\n",
      "            Current function value: 0.270251746306\n",
      "            Iterations: 82\n",
      "            Function evaluations: 82\n",
      "            Gradient evaluations: 82\n",
      "Optimization terminated successfully.    (Exit mode 0)\n",
      "            Current function value: 0.270047597375\n",
      "            Iterations: 83\n",
      "            Function evaluations: 83\n",
      "            Gradient evaluations: 83\n",
      "Optimization terminated successfully.    (Exit mode 0)\n",
      "            Current function value: 0.269843099093\n",
      "            Iterations: 82\n",
      "            Function evaluations: 83\n",
      "            Gradient evaluations: 82\n",
      "Optimization terminated successfully.    (Exit mode 0)\n",
      "            Current function value: 0.270047597375\n",
      "            Iterations: 83\n",
      "            Function evaluations: 83\n",
      "            Gradient evaluations: 83\n",
      "['maxDelqL3M_Bin_WOE', 'increaseUrateL6M_Bin_WOE', 'M0FreqL3M_WOE', 'avgUrateL1M_Bin_WOE', 'avgUrateL3M_Bin_WOE', 'M2FreqL3M_Bin_WOE', 'M1FreqL6M_Bin_WOE', 'maxDelqL1M_Bin_WOE']\n",
      "Optimization terminated successfully.\n",
      "         Current function value: 0.258479\n",
      "         Iterations 7\n",
      "0.637136882914 0.836449310448\n"
     ]
    }
   ],
   "source": [
    "X2 = X[featureSelected+['intercept']]\n",
    "for alpha in range(100,0,-1):\n",
    "    l1_logit = sm.Logit.fit_regularized(sm.Logit(y, X2), start_params=None, method='l1', alpha=alpha)\n",
    "    pvalues = l1_logit.pvalues\n",
    "    params = l1_logit.params\n",
    "    if max(pvalues)>=0.1 or max(params)>0:\n",
    "        break\n",
    "\n",
    "bestAlpha = alpha + 1\n",
    "l1_logit = sm.Logit.fit_regularized(sm.Logit(y, X2), start_params=None, method='l1', alpha=bestAlpha)\n",
    "params = l1_logit.params\n",
    "params2 = params.to_dict()\n",
    "featuresInModel = [k for k, v in params2.items() if k!='intercept' and v < -0.0000001]\n",
    "print(featuresInModel)\n",
    "\n",
    "X_train = X[featuresInModel + ['intercept']]\n",
    "logit = sm.Logit(y, X_train)\n",
    "logit_result = logit.fit()\n",
    "trainData['pred'] = logit_result.predict(X_train)\n",
    "\n",
    "ks = scorecard_function.KS(trainData, 'pred', 'label')\n",
    "auc = roc_auc_score(trainData['label'],trainData['pred'])  #AUC = 0.73\n",
    "#{'AUC': 0.83644931044825688, 'KS': 0.59816049348012412}\n",
    "print(ks, auc)"
   ]
  },
  {
   "cell_type": "code",
   "execution_count": 19,
   "metadata": {
    "collapsed": false
   },
   "outputs": [
    {
     "data": {
      "text/plain": [
       "['maxDelqL3M_Bin_WOE',\n",
       " 'increaseUrateL6M_Bin_WOE',\n",
       " 'M0FreqL3M_WOE',\n",
       " 'avgUrateL1M_Bin_WOE',\n",
       " 'avgUrateL3M_Bin_WOE',\n",
       " 'M2FreqL3M_Bin_WOE',\n",
       " 'M1FreqL6M_Bin_WOE',\n",
       " 'maxDelqL1M_Bin_WOE']"
      ]
     },
     "execution_count": 19,
     "metadata": {},
     "output_type": "execute_result"
    }
   ],
   "source": [
    "featuresInModel"
   ]
  },
  {
   "cell_type": "code",
   "execution_count": 18,
   "metadata": {
    "collapsed": false
   },
   "outputs": [
    {
     "name": "stdout",
     "output_type": "stream",
     "text": [
      "0.649478597889 0.844320886699\n"
     ]
    },
    {
     "name": "stderr",
     "output_type": "stream",
     "text": [
      "C:\\ProgramData\\Anaconda3\\lib\\site-packages\\ipykernel\\__main__.py:40: SettingWithCopyWarning: \n",
      "A value is trying to be set on a copy of a slice from a DataFrame.\n",
      "Try using .loc[row_indexer,col_indexer] = value instead\n",
      "\n",
      "See the caveats in the documentation: http://pandas.pydata.org/pandas-docs/stable/indexing.html#indexing-view-versus-copy\n"
     ]
    }
   ],
   "source": [
    "##################################\n",
    "#   5，在测试集上测试逻辑回归的结果   #\n",
    "###################################\n",
    "# 准备WOE编码后的变量\n",
    "modelFeatures = [i.replace('_Bin','').replace('_WOE','') for i in featuresInModel]\n",
    "\n",
    "numFeatures = [i for i in modelFeatures if i in numericalFeatures]\n",
    "charFeatures = [i for i in modelFeatures if i in categoricalFeatures]\n",
    "\n",
    "#\n",
    "testData['maxDelqL1M'] = testData.apply(lambda x: DelqFeatures(x,1,'max delq'),axis=1)\n",
    "testData['maxDelqL3M'] = testData.apply(lambda x: DelqFeatures(x,3,'max delq'),axis=1)\n",
    "# testData['M2FreqL3M'] = testData.apply(lambda x: DelqFeatures(x, 3, 'M2 times'), axis=1)\n",
    "testData['M0FreqL3M'] = testData.apply(lambda x: DelqFeatures(x,3,'M0 times'),axis=1)\n",
    "testData['M1FreqL6M'] = testData.apply(lambda x: DelqFeatures(x, 6, 'M1 times'), axis=1)\n",
    "testData['M2FreqL3M'] = testData.apply(lambda x: DelqFeatures(x, 3, 'M2 times'), axis=1)\n",
    "# testData['M1FreqL12M'] = testData.apply(lambda x: DelqFeatures(x, 12, 'M1 times'), axis=1)\n",
    "# testData['maxUrateL6M'] = testData.apply(lambda x: UrateFeatures(x,6,'max utilization rate'),axis = 1)\n",
    "testData['avgUrateL1M'] = testData.apply(lambda x: UrateFeatures(x,1, 'mean utilization rate'),axis=1)\n",
    "testData['avgUrateL3M'] = testData.apply(lambda x: UrateFeatures(x,3, 'mean utilization rate'),axis=1)\n",
    "# testData['avgUrateL6M'] = testData.apply(lambda x: UrateFeatures(x,6, 'mean utilization rate'),axis=1)\n",
    "testData['increaseUrateL6M'] = testData.apply(lambda x: UrateFeatures(x, 6, 'increase utilization rate'),axis=1)\n",
    "# testData['avgPayL3M'] = testData.apply(lambda x: PaymentFeatures(x, 3, 'mean payment ratio'),axis=1)\n",
    "# testData['avgPayL6M'] = testData.apply(lambda x: PaymentFeatures(x, 6, 'mean payment ratio'),axis=1)\n",
    "#\n",
    "testData['M2FreqL3M_Bin'] = testData['M2FreqL3M'].apply(lambda x: int(x>=1))\n",
    "testData['maxDelqL1M_Bin'] = testData['maxDelqL1M'].apply(lambda x: scorecard_function.MergeByCondition(x, ['==0', '==1', '>=2']))\n",
    "testData['maxDelqL3M_Bin'] = testData['maxDelqL3M'].apply(lambda x: scorecard_function.MergeByCondition(x, ['==0', '==1', '>=2']))\n",
    "for var in numFeatures:\n",
    "        newBin = var+\"_Bin\"\n",
    "        bin = list([i.values() for i in bin_dict if var in i][0])[0]\n",
    "        testData[newBin] = testData[var].apply(lambda x: scorecard_function.AssignBin(x, bin))\n",
    "\n",
    "finalFeatures = [i+'_Bin' for i in numFeatures] + ['M2FreqL3M_Bin','maxDelqL1M_Bin','maxDelqL3M_Bin','M0FreqL3M']\n",
    "for var in finalFeatures:\n",
    "    var2 = var+\"_WOE\"\n",
    "    testData[var2] = testData[var].apply(lambda x: WOE_IV_dict[var]['WOE'][x])\n",
    "\n",
    "X_test = testData[featuresInModel]\n",
    "X_test['intercept'] = [1]*X_test.shape[0]\n",
    "testData['pred'] = logit_result.predict(X_test)\n",
    "\n",
    "\n",
    "ks = scorecard_function.KS(testData, 'pred', 'label')\n",
    "auc = roc_auc_score(testData['label'],testData['pred'])\n",
    "print(ks, auc)"
   ]
  },
  {
   "cell_type": "code",
   "execution_count": null,
   "metadata": {
    "collapsed": true
   },
   "outputs": [],
   "source": []
  },
  {
   "cell_type": "code",
   "execution_count": 19,
   "metadata": {
    "collapsed": false
   },
   "outputs": [
    {
     "data": {
      "image/png": "[encoded data removed]",
      "text/plain": [
       "<matplotlib.figure.Figure at 0x1ab6c403668>"
      ]
     },
     "metadata": {},
     "output_type": "display_data"
    }
   ],
   "source": [
    "##########################\n",
    "#   6，在测试集上计算分数   #\n",
    "##########################\n",
    "BasePoint, PDO = 500,50\n",
    "testData['score'] = testData['pred'].apply(lambda x: scorecard_function.Prob2Score(x, BasePoint, PDO))\n",
    "plt.hist(testData['score'],bins=100)\n",
    "plt.show()"
   ]
  },
  {
   "cell_type": "code",
   "execution_count": null,
   "metadata": {
    "collapsed": true
   },
   "outputs": [],
   "source": []
  }
 ],
 "metadata": {
  "kernelspec": {
   "display_name": "Python 3",
   "language": "python",
   "name": "python3"
  },
  "language_info": {
   "codemirror_mode": {
    "name": "ipython",
    "version": 3
   },
   "file_extension": ".py",
   "mimetype": "text/x-python",
   "name": "python",
   "nbconvert_exporter": "python",
   "pygments_lexer": "ipython3",
   "version": "3.6.0"
  }
 },
 "nbformat": 4,
 "nbformat_minor": 2
}
