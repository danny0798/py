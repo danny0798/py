{
 "cells": [
  {
   "cell_type": "code",
   "execution_count": 1,
   "metadata": {
    "collapsed": true
   },
   "outputs": [],
   "source": [
    "#分箱操作\n",
    "import pandas as pd\n",
    "data = pd.read_csv('data_train.csv',index_col=0,header=0)"
   ]
  },
  {
   "cell_type": "markdown",
   "metadata": {},
   "source": [
    "    https://blog.csdn.net/kxiaozhuk/article/details/84612632\n",
    "    "
   ]
  },
  {
   "cell_type": "code",
   "execution_count": 2,
   "metadata": {
    "collapsed": true
   },
   "outputs": [],
   "source": [
    "#####代码中需要引用的包#####\n",
    "import numpy as np\n",
    "import pandas as pd\n",
    "from sklearn.utils import shuffle\n",
    "from sklearn.feature_selection import RFE, f_regression\n",
    "import scipy.stats.stats as stats\n",
    "import matplotlib.pyplot as plt\n",
    "from sklearn.linear_model import LogisticRegression\n",
    "import math\n",
    "import matplotlib.pyplot as plt\n"
   ]
  },
  {
   "cell_type": "code",
   "execution_count": 3,
   "metadata": {
    "collapsed": false
   },
   "outputs": [
    {
     "data": {
      "text/plain": [
       "\"#提取样本训练集和测试集\\ndef split_data(data, ratio=0.7, seed=None):\\n    if seed:\\n        shuffle_data = shuffle(data, random_state=seed)\\n    else:\\n        shuffle_data = shuffle(data, random_state=np.random.randint(10000))\\n    train = shuffle_data.iloc[:int(ratio*len(shuffle_data)), ]\\n    test = shuffle_data.iloc[int(ratio*len(shuffle_data)):, ]\\n    return train, test\\n \\n#设置seed是为了保证下次拆分的结果一致\\ndf_train,df_test = split_data(data, ratio=0.7, seed=666)\\n#将违约样本用“1”表示，正常样本用“0”表示。\\ncredit_risk = [0 if x=='good' else 1 for x in df_train['y']]\\n#credit_risk = np.where(df_train['credit_risk'] == 'good',0,1)\\ndata = df_train\\n\""
      ]
     },
     "execution_count": 3,
     "metadata": {},
     "output_type": "execute_result"
    }
   ],
   "source": [
    "'''#提取样本训练集和测试集\n",
    "def split_data(data, ratio=0.7, seed=None):\n",
    "    if seed:\n",
    "        shuffle_data = shuffle(data, random_state=seed)\n",
    "    else:\n",
    "        shuffle_data = shuffle(data, random_state=np.random.randint(10000))\n",
    "    train = shuffle_data.iloc[:int(ratio*len(shuffle_data)), ]\n",
    "    test = shuffle_data.iloc[int(ratio*len(shuffle_data)):, ]\n",
    "    return train, test\n",
    " \n",
    "#设置seed是为了保证下次拆分的结果一致\n",
    "df_train,df_test = split_data(data, ratio=0.7, seed=666)\n",
    "#将违约样本用“1”表示，正常样本用“0”表示。\n",
    "credit_risk = [0 if x=='good' else 1 for x in df_train['y']]\n",
    "#credit_risk = np.where(df_train['credit_risk'] == 'good',0,1)\n",
    "data = df_train\n",
    "'''"
   ]
  },
  {
   "cell_type": "code",
   "execution_count": 4,
   "metadata": {
    "collapsed": false,
    "scrolled": true
   },
   "outputs": [
    {
     "data": {
      "text/plain": [
       "(7500, 30)"
      ]
     },
     "execution_count": 4,
     "metadata": {},
     "output_type": "execute_result"
    }
   ],
   "source": [
    "data.shape"
   ]
  },
  {
   "cell_type": "code",
   "execution_count": 5,
   "metadata": {
    "collapsed": true
   },
   "outputs": [],
   "source": [
    "lisan = [ 'mar_status_0.0', 'mar_status_1.0',\n",
    "       'mar_status_2.0']"
   ]
  },
  {
   "cell_type": "code",
   "execution_count": 6,
   "metadata": {
    "collapsed": true
   },
   "outputs": [],
   "source": [
    "lianxu=['y', 'age', 'xaccount_age', 'cred_limit', 'this_bill_rate',\n",
    "       'this_bill_mp', 'last_mp_days', 'six_bill_num', 'six_bill_avg_amt',\n",
    "       'six_cycle_mp_num', 'six_cycle_mp_avg_amt', 'six_bill_avg_debt_rate',\n",
    "       'six_bill_low_repay_num', 'epp_nbr_12m', 'alop_nbr_12m',\n",
    "       'epp_avg_amt_12m', 'alop_avg_amt_12m', 'consume_num_session12',\n",
    "       'consume_num_session6', 'consume_num_session3', 'consume_num_session',\n",
    "       'consume_amt_session12', 'consume_amt_session6', 'consume_amt_session3',\n",
    "       'consume_amt_session', 'month_avg_use_year', 'month_avg_use_month6',\n",
    "       'month_avg_use_month3']"
   ]
  },
  {
   "cell_type": "code",
   "execution_count": 7,
   "metadata": {
    "collapsed": false
   },
   "outputs": [
    {
     "data": {
      "text/plain": [
       "array(['city', 'mar_status', 'age', 'xaccount_age', 'cred_limit',\n",
       "       'this_bill_rate', 'this_bill_mp', 'last_mp_days', 'six_bill_num',\n",
       "       'six_bill_avg_amt', 'six_cycle_mp_num', 'six_cycle_mp_avg_amt',\n",
       "       'six_bill_avg_debt_rate', 'six_bill_low_repay_num', 'epp_nbr_12m',\n",
       "       'alop_nbr_12m', 'epp_avg_amt_12m', 'alop_avg_amt_12m',\n",
       "       'consume_num_session12', 'consume_num_session6',\n",
       "       'consume_num_session3', 'consume_num_session',\n",
       "       'consume_amt_session12', 'consume_amt_session6',\n",
       "       'consume_amt_session3', 'consume_amt_session',\n",
       "       'month_avg_use_year', 'month_avg_use_month6',\n",
       "       'month_avg_use_month3', 'y'], dtype=object)"
      ]
     },
     "execution_count": 7,
     "metadata": {},
     "output_type": "execute_result"
    }
   ],
   "source": [
    "data.columns.values"
   ]
  },
  {
   "cell_type": "code",
   "execution_count": 8,
   "metadata": {
    "collapsed": false
   },
   "outputs": [
    {
     "data": {
      "text/html": [
       "<div>\n",
       "<style scoped>\n",
       "    .dataframe tbody tr th:only-of-type {\n",
       "        vertical-align: middle;\n",
       "    }\n",
       "\n",
       "    .dataframe tbody tr th {\n",
       "        vertical-align: top;\n",
       "    }\n",
       "\n",
       "    .dataframe thead th {\n",
       "        text-align: right;\n",
       "    }\n",
       "</style>\n",
       "<table border=\"1\" class=\"dataframe\">\n",
       "  <thead>\n",
       "    <tr style=\"text-align: right;\">\n",
       "      <th></th>\n",
       "      <th>age</th>\n",
       "      <th>xaccount_age</th>\n",
       "      <th>cred_limit</th>\n",
       "      <th>this_bill_rate</th>\n",
       "      <th>this_bill_mp</th>\n",
       "      <th>last_mp_days</th>\n",
       "      <th>six_bill_num</th>\n",
       "      <th>six_bill_avg_amt</th>\n",
       "      <th>six_cycle_mp_num</th>\n",
       "      <th>six_cycle_mp_avg_amt</th>\n",
       "      <th>...</th>\n",
       "      <th>consume_num_session6</th>\n",
       "      <th>consume_num_session3</th>\n",
       "      <th>consume_num_session</th>\n",
       "      <th>consume_amt_session12</th>\n",
       "      <th>consume_amt_session6</th>\n",
       "      <th>consume_amt_session3</th>\n",
       "      <th>consume_amt_session</th>\n",
       "      <th>month_avg_use_year</th>\n",
       "      <th>month_avg_use_month6</th>\n",
       "      <th>month_avg_use_month3</th>\n",
       "    </tr>\n",
       "  </thead>\n",
       "  <tbody>\n",
       "    <tr>\n",
       "      <th>2967</th>\n",
       "      <td>45.0</td>\n",
       "      <td>62.0</td>\n",
       "      <td>17000.0</td>\n",
       "      <td>0.044703</td>\n",
       "      <td>721.95</td>\n",
       "      <td>9999.0</td>\n",
       "      <td>6.0</td>\n",
       "      <td>1594.75</td>\n",
       "      <td>0.0</td>\n",
       "      <td>0.0</td>\n",
       "      <td>...</td>\n",
       "      <td>52.0</td>\n",
       "      <td>34.0</td>\n",
       "      <td>15.0</td>\n",
       "      <td>18469.71</td>\n",
       "      <td>13565.39</td>\n",
       "      <td>3469.92</td>\n",
       "      <td>927.96</td>\n",
       "      <td>0.090538</td>\n",
       "      <td>0.132994</td>\n",
       "      <td>0.068038</td>\n",
       "    </tr>\n",
       "    <tr>\n",
       "      <th>700</th>\n",
       "      <td>24.0</td>\n",
       "      <td>15.0</td>\n",
       "      <td>28000.0</td>\n",
       "      <td>0.765756</td>\n",
       "      <td>20387.01</td>\n",
       "      <td>43.0</td>\n",
       "      <td>6.0</td>\n",
       "      <td>14122.09</td>\n",
       "      <td>1.0</td>\n",
       "      <td>4700.0</td>\n",
       "      <td>...</td>\n",
       "      <td>195.0</td>\n",
       "      <td>83.0</td>\n",
       "      <td>21.0</td>\n",
       "      <td>123695.97</td>\n",
       "      <td>99878.75</td>\n",
       "      <td>72008.67</td>\n",
       "      <td>22016.18</td>\n",
       "      <td>0.454765</td>\n",
       "      <td>0.657097</td>\n",
       "      <td>0.857246</td>\n",
       "    </tr>\n",
       "    <tr>\n",
       "      <th>3481</th>\n",
       "      <td>40.0</td>\n",
       "      <td>55.0</td>\n",
       "      <td>19500.0</td>\n",
       "      <td>0.979458</td>\n",
       "      <td>17834.13</td>\n",
       "      <td>956.0</td>\n",
       "      <td>6.0</td>\n",
       "      <td>14701.03</td>\n",
       "      <td>0.0</td>\n",
       "      <td>0.0</td>\n",
       "      <td>...</td>\n",
       "      <td>24.0</td>\n",
       "      <td>15.0</td>\n",
       "      <td>6.0</td>\n",
       "      <td>143169.00</td>\n",
       "      <td>89433.00</td>\n",
       "      <td>56497.00</td>\n",
       "      <td>19090.00</td>\n",
       "      <td>0.611833</td>\n",
       "      <td>0.764385</td>\n",
       "      <td>0.965761</td>\n",
       "    </tr>\n",
       "    <tr>\n",
       "      <th>1621</th>\n",
       "      <td>34.0</td>\n",
       "      <td>15.0</td>\n",
       "      <td>24000.0</td>\n",
       "      <td>0.087500</td>\n",
       "      <td>1995.00</td>\n",
       "      <td>9999.0</td>\n",
       "      <td>6.0</td>\n",
       "      <td>7423.88</td>\n",
       "      <td>0.0</td>\n",
       "      <td>0.0</td>\n",
       "      <td>...</td>\n",
       "      <td>2.0</td>\n",
       "      <td>2.0</td>\n",
       "      <td>1.0</td>\n",
       "      <td>13600.00</td>\n",
       "      <td>13600.00</td>\n",
       "      <td>13600.00</td>\n",
       "      <td>2100.00</td>\n",
       "      <td>0.283333</td>\n",
       "      <td>0.283333</td>\n",
       "      <td>0.283333</td>\n",
       "    </tr>\n",
       "    <tr>\n",
       "      <th>800</th>\n",
       "      <td>48.0</td>\n",
       "      <td>21.0</td>\n",
       "      <td>15000.0</td>\n",
       "      <td>0.931308</td>\n",
       "      <td>12868.35</td>\n",
       "      <td>9999.0</td>\n",
       "      <td>6.0</td>\n",
       "      <td>9349.12</td>\n",
       "      <td>0.0</td>\n",
       "      <td>0.0</td>\n",
       "      <td>...</td>\n",
       "      <td>20.0</td>\n",
       "      <td>12.0</td>\n",
       "      <td>7.0</td>\n",
       "      <td>55154.63</td>\n",
       "      <td>40202.63</td>\n",
       "      <td>26205.63</td>\n",
       "      <td>13533.63</td>\n",
       "      <td>0.306415</td>\n",
       "      <td>0.446696</td>\n",
       "      <td>0.582347</td>\n",
       "    </tr>\n",
       "  </tbody>\n",
       "</table>\n",
       "<p>5 rows × 27 columns</p>\n",
       "</div>"
      ],
      "text/plain": [
       "       age  xaccount_age  cred_limit  this_bill_rate  this_bill_mp  \\\n",
       "2967  45.0          62.0     17000.0        0.044703        721.95   \n",
       "700   24.0          15.0     28000.0        0.765756      20387.01   \n",
       "3481  40.0          55.0     19500.0        0.979458      17834.13   \n",
       "1621  34.0          15.0     24000.0        0.087500       1995.00   \n",
       "800   48.0          21.0     15000.0        0.931308      12868.35   \n",
       "\n",
       "      last_mp_days  six_bill_num  six_bill_avg_amt  six_cycle_mp_num  \\\n",
       "2967        9999.0           6.0           1594.75               0.0   \n",
       "700           43.0           6.0          14122.09               1.0   \n",
       "3481         956.0           6.0          14701.03               0.0   \n",
       "1621        9999.0           6.0           7423.88               0.0   \n",
       "800         9999.0           6.0           9349.12               0.0   \n",
       "\n",
       "      six_cycle_mp_avg_amt  ...  consume_num_session6  consume_num_session3  \\\n",
       "2967                   0.0  ...                  52.0                  34.0   \n",
       "700                 4700.0  ...                 195.0                  83.0   \n",
       "3481                   0.0  ...                  24.0                  15.0   \n",
       "1621                   0.0  ...                   2.0                   2.0   \n",
       "800                    0.0  ...                  20.0                  12.0   \n",
       "\n",
       "      consume_num_session  consume_amt_session12  consume_amt_session6  \\\n",
       "2967                 15.0               18469.71              13565.39   \n",
       "700                  21.0              123695.97              99878.75   \n",
       "3481                  6.0              143169.00              89433.00   \n",
       "1621                  1.0               13600.00              13600.00   \n",
       "800                   7.0               55154.63              40202.63   \n",
       "\n",
       "      consume_amt_session3  consume_amt_session  month_avg_use_year  \\\n",
       "2967               3469.92               927.96            0.090538   \n",
       "700               72008.67             22016.18            0.454765   \n",
       "3481              56497.00             19090.00            0.611833   \n",
       "1621              13600.00              2100.00            0.283333   \n",
       "800               26205.63             13533.63            0.306415   \n",
       "\n",
       "      month_avg_use_month6  month_avg_use_month3  \n",
       "2967              0.132994              0.068038  \n",
       "700               0.657097              0.857246  \n",
       "3481              0.764385              0.965761  \n",
       "1621              0.283333              0.283333  \n",
       "800               0.446696              0.582347  \n",
       "\n",
       "[5 rows x 27 columns]"
      ]
     },
     "execution_count": 8,
     "metadata": {},
     "output_type": "execute_result"
    }
   ],
   "source": [
    "df_feature = pd.DataFrame(data,columns=[ 'age', 'xaccount_age', 'cred_limit', 'this_bill_rate',\n",
    "       'this_bill_mp', 'last_mp_days', 'six_bill_num', 'six_bill_avg_amt',\n",
    "       'six_cycle_mp_num', 'six_cycle_mp_avg_amt',\n",
    "       'six_bill_avg_debt_rate', 'six_bill_low_repay_num', 'epp_nbr_12m',\n",
    "       'alop_nbr_12m', 'epp_avg_amt_12m', 'alop_avg_amt_12m',\n",
    "       'consume_num_session12', 'consume_num_session6',\n",
    "       'consume_num_session3', 'consume_num_session',\n",
    "       'consume_amt_session12', 'consume_amt_session6',\n",
    "       'consume_amt_session3', 'consume_amt_session', 'month_avg_use_year',\n",
    "       'month_avg_use_month6', 'month_avg_use_month3'])\n",
    "df_feature.head()\n",
    "#f_regression(df_feature,credit_risk)\n",
    "#, 'mar_status_0.0',       'mar_status_1.0', 'mar_status_2.0'"
   ]
  },
  {
   "cell_type": "code",
   "execution_count": 12,
   "metadata": {
    "collapsed": false
   },
   "outputs": [],
   "source": [
    "df_feature = data.drop(['y','mar_status'],axis=1)"
   ]
  },
  {
   "cell_type": "code",
   "execution_count": 13,
   "metadata": {
    "collapsed": false
   },
   "outputs": [
    {
     "data": {
      "text/plain": [
       "(array([4.24944966e+00, 7.40867159e+00, 6.69864908e+00, 1.83917392e+01,\n",
       "        1.62824073e+01, 2.00765057e+01, 7.99781769e+02, 4.46157148e+00,\n",
       "        7.69152023e+00, 1.82866207e+03, 1.50057255e+02, 1.98030632e+00,\n",
       "        7.31518063e+01, 1.01439870e+03, 1.04705016e+02, 3.89577326e+02,\n",
       "        3.27314802e+01, 3.04584288e+00, 9.13285646e-01, 5.94742321e-01,\n",
       "        5.77928381e-01, 1.22479764e+00, 4.20981510e+00, 6.13602791e+00,\n",
       "        3.05746682e+01, 5.79863143e+00, 4.60315757e+00, 6.60051331e+00]),\n",
       " array([3.92974472e-002, 6.50601986e-003, 9.66721642e-003, 1.82091031e-005,\n",
       "        5.51105588e-005, 7.55091008e-006, 2.84299447e-167, 3.46985698e-002,\n",
       "        5.56179933e-003, 0.00000000e+000, 3.56865655e-034, 1.59399590e-001,\n",
       "        1.44029032e-017, 6.78581996e-209, 2.05013877e-024, 1.39730716e-084,\n",
       "        1.09882357e-008, 8.09850510e-002, 3.39274950e-001, 4.40615431e-001,\n",
       "        4.47149380e-001, 2.68456669e-001, 4.02253733e-002, 1.32673323e-002,\n",
       "        3.32070239e-008, 1.60626406e-002, 3.19451447e-002, 1.02140996e-002]))"
      ]
     },
     "execution_count": 13,
     "metadata": {},
     "output_type": "execute_result"
    }
   ],
   "source": [
    "\n",
    "f_regression( data.drop(['y','mar_status'],axis=1),data['y']) #第二列是p值 输出逐步回归后得到的变量，选择P值<=0.1的变量"
   ]
  },
  {
   "cell_type": "code",
   "execution_count": null,
   "metadata": {
    "collapsed": true
   },
   "outputs": [],
   "source": []
  },
  {
   "cell_type": "code",
   "execution_count": null,
   "metadata": {
    "collapsed": true
   },
   "outputs": [],
   "source": []
  }
 ],
 "metadata": {
  "kernelspec": {
   "display_name": "Python 3",
   "language": "python",
   "name": "python3"
  },
  "language_info": {
   "codemirror_mode": {
    "name": "ipython",
    "version": 3
   },
   "file_extension": ".py",
   "mimetype": "text/x-python",
   "name": "python",
   "nbconvert_exporter": "python",
   "pygments_lexer": "ipython3",
   "version": "3.6.0"
  }
 },
 "nbformat": 4,
 "nbformat_minor": 2
}
