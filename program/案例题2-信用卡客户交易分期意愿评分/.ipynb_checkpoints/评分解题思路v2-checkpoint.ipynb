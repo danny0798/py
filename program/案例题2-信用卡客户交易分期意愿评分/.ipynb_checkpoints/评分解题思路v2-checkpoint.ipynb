{
 "cells": [
  {
   "cell_type": "code",
   "execution_count": 1,
   "metadata": {
    "collapsed": false
   },
   "outputs": [],
   "source": [
    "import pandas as pd\n",
    "import numpy as np\n",
    "from sklearn.model_selection import train_test_split\n",
    "from statsmodels.stats.outliers_influence import variance_inflation_factor\n",
    "import statsmodels.api as sm\n",
    "from sklearn import ensemble\n",
    "import matplotlib.pyplot as plt\n",
    "import seaborn as sns\n",
    "from sklearn.metrics import roc_auc_score\n",
    "import scorecard_function\n",
    "\n"
   ]
  },
  {
   "cell_type": "code",
   "execution_count": 2,
   "metadata": {
    "collapsed": true
   },
   "outputs": [],
   "source": [
    "import pandas as pd\n",
    "import xlrd\n",
    "import csv\n",
    "import codecs\n",
    "#xlsx转为csv\n",
    "def xlsx_to_csv(path,doc_name):\n",
    "    workbook = xlrd.open_workbook(path)\n",
    "    table = workbook.sheet_by_index(0)\n",
    "    with codecs.open(doc_name, 'w', encoding='utf-8') as f:\n",
    "        write = csv.writer(f)\n",
    "        for row_num in range(table.nrows):\n",
    "            row_value = table.row_values(row_num)\n",
    "            write.writerow(row_value)\n",
    "\n",
    "if __name__ == '__main__':\n",
    "    xlsx_to_csv('试题2数据.xlsx','data.csv')"
   ]
  },
  {
   "cell_type": "code",
   "execution_count": 3,
   "metadata": {
    "collapsed": true
   },
   "outputs": [],
   "source": [
    "#读取csv\n",
    "import pandas as pd\n",
    "data = pd.read_csv('data.csv')"
   ]
  },
  {
   "cell_type": "code",
   "execution_count": 4,
   "metadata": {
    "collapsed": false
   },
   "outputs": [
    {
     "data": {
      "text/html": [
       "<div>\n",
       "<table border=\"1\" class=\"dataframe\">\n",
       "  <thead>\n",
       "    <tr style=\"text-align: right;\">\n",
       "      <th></th>\n",
       "      <th>count</th>\n",
       "      <th>mean</th>\n",
       "      <th>std</th>\n",
       "      <th>min</th>\n",
       "      <th>25%</th>\n",
       "      <th>50%</th>\n",
       "      <th>75%</th>\n",
       "      <th>max</th>\n",
       "    </tr>\n",
       "  </thead>\n",
       "  <tbody>\n",
       "    <tr>\n",
       "      <th>id</th>\n",
       "      <td>10000.0</td>\n",
       "      <td>16891.760500</td>\n",
       "      <td>11923.329983</td>\n",
       "      <td>0.000000</td>\n",
       "      <td>6297.250000</td>\n",
       "      <td>14943.500000</td>\n",
       "      <td>27106.500000</td>\n",
       "      <td>3.999200e+04</td>\n",
       "    </tr>\n",
       "    <tr>\n",
       "      <th>y</th>\n",
       "      <td>10000.0</td>\n",
       "      <td>0.199500</td>\n",
       "      <td>0.399644</td>\n",
       "      <td>0.000000</td>\n",
       "      <td>0.000000</td>\n",
       "      <td>0.000000</td>\n",
       "      <td>0.000000</td>\n",
       "      <td>1.000000e+00</td>\n",
       "    </tr>\n",
       "    <tr>\n",
       "      <th>city</th>\n",
       "      <td>10000.0</td>\n",
       "      <td>60.699400</td>\n",
       "      <td>42.824365</td>\n",
       "      <td>0.000000</td>\n",
       "      <td>18.000000</td>\n",
       "      <td>57.000000</td>\n",
       "      <td>96.000000</td>\n",
       "      <td>1.390000e+02</td>\n",
       "    </tr>\n",
       "    <tr>\n",
       "      <th>mar_status</th>\n",
       "      <td>10000.0</td>\n",
       "      <td>0.675400</td>\n",
       "      <td>0.929796</td>\n",
       "      <td>0.000000</td>\n",
       "      <td>0.000000</td>\n",
       "      <td>0.000000</td>\n",
       "      <td>2.000000</td>\n",
       "      <td>2.000000e+00</td>\n",
       "    </tr>\n",
       "    <tr>\n",
       "      <th>age</th>\n",
       "      <td>10000.0</td>\n",
       "      <td>33.778400</td>\n",
       "      <td>7.950498</td>\n",
       "      <td>19.000000</td>\n",
       "      <td>28.000000</td>\n",
       "      <td>32.000000</td>\n",
       "      <td>38.000000</td>\n",
       "      <td>7.400000e+01</td>\n",
       "    </tr>\n",
       "    <tr>\n",
       "      <th>xaccount_age</th>\n",
       "      <td>10000.0</td>\n",
       "      <td>23.422200</td>\n",
       "      <td>26.014358</td>\n",
       "      <td>1.000000</td>\n",
       "      <td>7.000000</td>\n",
       "      <td>14.000000</td>\n",
       "      <td>23.000000</td>\n",
       "      <td>1.450000e+02</td>\n",
       "    </tr>\n",
       "    <tr>\n",
       "      <th>cred_limit</th>\n",
       "      <td>10000.0</td>\n",
       "      <td>28197.198900</td>\n",
       "      <td>36234.316972</td>\n",
       "      <td>1.000000</td>\n",
       "      <td>6500.000000</td>\n",
       "      <td>18000.000000</td>\n",
       "      <td>35000.000000</td>\n",
       "      <td>5.000000e+05</td>\n",
       "    </tr>\n",
       "    <tr>\n",
       "      <th>this_bill_rate</th>\n",
       "      <td>10000.0</td>\n",
       "      <td>0.482938</td>\n",
       "      <td>0.479739</td>\n",
       "      <td>0.000000</td>\n",
       "      <td>0.111086</td>\n",
       "      <td>0.386447</td>\n",
       "      <td>0.835856</td>\n",
       "      <td>1.697924e+01</td>\n",
       "    </tr>\n",
       "    <tr>\n",
       "      <th>this_bill_mp</th>\n",
       "      <td>10000.0</td>\n",
       "      <td>10328.012341</td>\n",
       "      <td>16418.660196</td>\n",
       "      <td>0.000000</td>\n",
       "      <td>1613.560000</td>\n",
       "      <td>4692.610000</td>\n",
       "      <td>13298.132500</td>\n",
       "      <td>4.669180e+05</td>\n",
       "    </tr>\n",
       "    <tr>\n",
       "      <th>last_mp_days</th>\n",
       "      <td>10000.0</td>\n",
       "      <td>6500.546500</td>\n",
       "      <td>4668.516588</td>\n",
       "      <td>1.000000</td>\n",
       "      <td>272.000000</td>\n",
       "      <td>9999.000000</td>\n",
       "      <td>9999.000000</td>\n",
       "      <td>9.999000e+03</td>\n",
       "    </tr>\n",
       "    <tr>\n",
       "      <th>six_bill_num</th>\n",
       "      <td>10000.0</td>\n",
       "      <td>5.258700</td>\n",
       "      <td>1.485932</td>\n",
       "      <td>1.000000</td>\n",
       "      <td>5.000000</td>\n",
       "      <td>6.000000</td>\n",
       "      <td>6.000000</td>\n",
       "      <td>6.000000e+00</td>\n",
       "    </tr>\n",
       "    <tr>\n",
       "      <th>six_bill_avg_amt</th>\n",
       "      <td>10000.0</td>\n",
       "      <td>10488.702262</td>\n",
       "      <td>15774.975815</td>\n",
       "      <td>-9002.150000</td>\n",
       "      <td>2194.707500</td>\n",
       "      <td>5521.700000</td>\n",
       "      <td>12718.320000</td>\n",
       "      <td>3.994140e+05</td>\n",
       "    </tr>\n",
       "    <tr>\n",
       "      <th>six_cycle_mp_num</th>\n",
       "      <td>10000.0</td>\n",
       "      <td>0.354800</td>\n",
       "      <td>0.873037</td>\n",
       "      <td>0.000000</td>\n",
       "      <td>0.000000</td>\n",
       "      <td>0.000000</td>\n",
       "      <td>0.000000</td>\n",
       "      <td>5.000000e+00</td>\n",
       "    </tr>\n",
       "    <tr>\n",
       "      <th>six_cycle_mp_avg_amt</th>\n",
       "      <td>10000.0</td>\n",
       "      <td>2227.685166</td>\n",
       "      <td>8820.798447</td>\n",
       "      <td>0.000000</td>\n",
       "      <td>0.000000</td>\n",
       "      <td>0.000000</td>\n",
       "      <td>0.000000</td>\n",
       "      <td>2.657920e+05</td>\n",
       "    </tr>\n",
       "    <tr>\n",
       "      <th>six_bill_avg_debt_rate</th>\n",
       "      <td>10000.0</td>\n",
       "      <td>1.172103</td>\n",
       "      <td>1.612460</td>\n",
       "      <td>-1.440842</td>\n",
       "      <td>0.274150</td>\n",
       "      <td>0.666278</td>\n",
       "      <td>1.525190</td>\n",
       "      <td>4.034583e+01</td>\n",
       "    </tr>\n",
       "    <tr>\n",
       "      <th>six_bill_low_repay_num</th>\n",
       "      <td>10000.0</td>\n",
       "      <td>0.978100</td>\n",
       "      <td>1.602647</td>\n",
       "      <td>0.000000</td>\n",
       "      <td>0.000000</td>\n",
       "      <td>0.000000</td>\n",
       "      <td>1.000000</td>\n",
       "      <td>6.000000e+00</td>\n",
       "    </tr>\n",
       "    <tr>\n",
       "      <th>six_optial_mp_num</th>\n",
       "      <td>10000.0</td>\n",
       "      <td>0.000000</td>\n",
       "      <td>0.000000</td>\n",
       "      <td>0.000000</td>\n",
       "      <td>0.000000</td>\n",
       "      <td>0.000000</td>\n",
       "      <td>0.000000</td>\n",
       "      <td>0.000000e+00</td>\n",
       "    </tr>\n",
       "    <tr>\n",
       "      <th>six_optial_mp_avg_amt</th>\n",
       "      <td>10000.0</td>\n",
       "      <td>0.000000</td>\n",
       "      <td>0.000000</td>\n",
       "      <td>0.000000</td>\n",
       "      <td>0.000000</td>\n",
       "      <td>0.000000</td>\n",
       "      <td>0.000000</td>\n",
       "      <td>0.000000e+00</td>\n",
       "    </tr>\n",
       "    <tr>\n",
       "      <th>epp_nbr_12m</th>\n",
       "      <td>10000.0</td>\n",
       "      <td>1.226500</td>\n",
       "      <td>3.057373</td>\n",
       "      <td>0.000000</td>\n",
       "      <td>0.000000</td>\n",
       "      <td>0.000000</td>\n",
       "      <td>1.000000</td>\n",
       "      <td>1.020000e+02</td>\n",
       "    </tr>\n",
       "    <tr>\n",
       "      <th>alop_nbr_12m</th>\n",
       "      <td>10000.0</td>\n",
       "      <td>0.318700</td>\n",
       "      <td>0.980115</td>\n",
       "      <td>0.000000</td>\n",
       "      <td>0.000000</td>\n",
       "      <td>0.000000</td>\n",
       "      <td>0.000000</td>\n",
       "      <td>2.400000e+01</td>\n",
       "    </tr>\n",
       "    <tr>\n",
       "      <th>epp_avg_amt_12m</th>\n",
       "      <td>10000.0</td>\n",
       "      <td>810.992281</td>\n",
       "      <td>2380.266311</td>\n",
       "      <td>0.000000</td>\n",
       "      <td>0.000000</td>\n",
       "      <td>0.000000</td>\n",
       "      <td>613.522500</td>\n",
       "      <td>4.812342e+04</td>\n",
       "    </tr>\n",
       "    <tr>\n",
       "      <th>alop_avg_amt_12m</th>\n",
       "      <td>10000.0</td>\n",
       "      <td>602.073626</td>\n",
       "      <td>2431.722290</td>\n",
       "      <td>0.000000</td>\n",
       "      <td>0.000000</td>\n",
       "      <td>0.000000</td>\n",
       "      <td>0.000000</td>\n",
       "      <td>5.083333e+04</td>\n",
       "    </tr>\n",
       "    <tr>\n",
       "      <th>consume_num_session12</th>\n",
       "      <td>10000.0</td>\n",
       "      <td>66.743300</td>\n",
       "      <td>144.067846</td>\n",
       "      <td>0.000000</td>\n",
       "      <td>9.000000</td>\n",
       "      <td>25.000000</td>\n",
       "      <td>64.000000</td>\n",
       "      <td>2.839000e+03</td>\n",
       "    </tr>\n",
       "    <tr>\n",
       "      <th>consume_num_session6</th>\n",
       "      <td>10000.0</td>\n",
       "      <td>39.282800</td>\n",
       "      <td>80.052553</td>\n",
       "      <td>0.000000</td>\n",
       "      <td>6.000000</td>\n",
       "      <td>15.000000</td>\n",
       "      <td>38.000000</td>\n",
       "      <td>1.689000e+03</td>\n",
       "    </tr>\n",
       "    <tr>\n",
       "      <th>consume_num_session3</th>\n",
       "      <td>10000.0</td>\n",
       "      <td>22.346300</td>\n",
       "      <td>45.728808</td>\n",
       "      <td>0.000000</td>\n",
       "      <td>3.000000</td>\n",
       "      <td>8.000000</td>\n",
       "      <td>21.000000</td>\n",
       "      <td>9.040000e+02</td>\n",
       "    </tr>\n",
       "    <tr>\n",
       "      <th>consume_num_session</th>\n",
       "      <td>10000.0</td>\n",
       "      <td>8.534800</td>\n",
       "      <td>17.485828</td>\n",
       "      <td>0.000000</td>\n",
       "      <td>1.000000</td>\n",
       "      <td>3.000000</td>\n",
       "      <td>8.000000</td>\n",
       "      <td>2.710000e+02</td>\n",
       "    </tr>\n",
       "    <tr>\n",
       "      <th>consume_amt_session12</th>\n",
       "      <td>10000.0</td>\n",
       "      <td>77657.745633</td>\n",
       "      <td>147725.221823</td>\n",
       "      <td>0.000000</td>\n",
       "      <td>9943.375000</td>\n",
       "      <td>31161.845000</td>\n",
       "      <td>86581.165000</td>\n",
       "      <td>3.956771e+06</td>\n",
       "    </tr>\n",
       "    <tr>\n",
       "      <th>consume_amt_session6</th>\n",
       "      <td>10000.0</td>\n",
       "      <td>46445.630615</td>\n",
       "      <td>83204.890301</td>\n",
       "      <td>0.000000</td>\n",
       "      <td>6449.990000</td>\n",
       "      <td>20000.000000</td>\n",
       "      <td>53806.420000</td>\n",
       "      <td>2.655518e+06</td>\n",
       "    </tr>\n",
       "    <tr>\n",
       "      <th>consume_amt_session3</th>\n",
       "      <td>10000.0</td>\n",
       "      <td>26009.843583</td>\n",
       "      <td>45592.331954</td>\n",
       "      <td>0.000000</td>\n",
       "      <td>3508.062500</td>\n",
       "      <td>11634.440000</td>\n",
       "      <td>31408.000000</td>\n",
       "      <td>1.451518e+06</td>\n",
       "    </tr>\n",
       "    <tr>\n",
       "      <th>consume_amt_session</th>\n",
       "      <td>10000.0</td>\n",
       "      <td>9981.344644</td>\n",
       "      <td>17264.501651</td>\n",
       "      <td>0.000000</td>\n",
       "      <td>960.000000</td>\n",
       "      <td>4000.000000</td>\n",
       "      <td>12444.197500</td>\n",
       "      <td>4.920180e+05</td>\n",
       "    </tr>\n",
       "    <tr>\n",
       "      <th>month_avg_use_year</th>\n",
       "      <td>10000.0</td>\n",
       "      <td>0.417635</td>\n",
       "      <td>0.656466</td>\n",
       "      <td>0.000000</td>\n",
       "      <td>0.148722</td>\n",
       "      <td>0.332295</td>\n",
       "      <td>0.613626</td>\n",
       "      <td>4.810714e+01</td>\n",
       "    </tr>\n",
       "    <tr>\n",
       "      <th>month_avg_use_month6</th>\n",
       "      <td>10000.0</td>\n",
       "      <td>0.418581</td>\n",
       "      <td>0.722189</td>\n",
       "      <td>0.000000</td>\n",
       "      <td>0.133156</td>\n",
       "      <td>0.326865</td>\n",
       "      <td>0.630470</td>\n",
       "      <td>5.612500e+01</td>\n",
       "    </tr>\n",
       "    <tr>\n",
       "      <th>month_avg_use_month3</th>\n",
       "      <td>10000.0</td>\n",
       "      <td>0.422886</td>\n",
       "      <td>0.495612</td>\n",
       "      <td>0.000000</td>\n",
       "      <td>0.107737</td>\n",
       "      <td>0.331387</td>\n",
       "      <td>0.663169</td>\n",
       "      <td>2.583333e+01</td>\n",
       "    </tr>\n",
       "  </tbody>\n",
       "</table>\n",
       "</div>"
      ],
      "text/plain": [
       "                          count          mean            std          min  \\\n",
       "id                      10000.0  16891.760500   11923.329983     0.000000   \n",
       "y                       10000.0      0.199500       0.399644     0.000000   \n",
       "city                    10000.0     60.699400      42.824365     0.000000   \n",
       "mar_status              10000.0      0.675400       0.929796     0.000000   \n",
       "age                     10000.0     33.778400       7.950498    19.000000   \n",
       "xaccount_age            10000.0     23.422200      26.014358     1.000000   \n",
       "cred_limit              10000.0  28197.198900   36234.316972     1.000000   \n",
       "this_bill_rate          10000.0      0.482938       0.479739     0.000000   \n",
       "this_bill_mp            10000.0  10328.012341   16418.660196     0.000000   \n",
       "last_mp_days            10000.0   6500.546500    4668.516588     1.000000   \n",
       "six_bill_num            10000.0      5.258700       1.485932     1.000000   \n",
       "six_bill_avg_amt        10000.0  10488.702262   15774.975815 -9002.150000   \n",
       "six_cycle_mp_num        10000.0      0.354800       0.873037     0.000000   \n",
       "six_cycle_mp_avg_amt    10000.0   2227.685166    8820.798447     0.000000   \n",
       "six_bill_avg_debt_rate  10000.0      1.172103       1.612460    -1.440842   \n",
       "six_bill_low_repay_num  10000.0      0.978100       1.602647     0.000000   \n",
       "six_optial_mp_num       10000.0      0.000000       0.000000     0.000000   \n",
       "six_optial_mp_avg_amt   10000.0      0.000000       0.000000     0.000000   \n",
       "epp_nbr_12m             10000.0      1.226500       3.057373     0.000000   \n",
       "alop_nbr_12m            10000.0      0.318700       0.980115     0.000000   \n",
       "epp_avg_amt_12m         10000.0    810.992281    2380.266311     0.000000   \n",
       "alop_avg_amt_12m        10000.0    602.073626    2431.722290     0.000000   \n",
       "consume_num_session12   10000.0     66.743300     144.067846     0.000000   \n",
       "consume_num_session6    10000.0     39.282800      80.052553     0.000000   \n",
       "consume_num_session3    10000.0     22.346300      45.728808     0.000000   \n",
       "consume_num_session     10000.0      8.534800      17.485828     0.000000   \n",
       "consume_amt_session12   10000.0  77657.745633  147725.221823     0.000000   \n",
       "consume_amt_session6    10000.0  46445.630615   83204.890301     0.000000   \n",
       "consume_amt_session3    10000.0  26009.843583   45592.331954     0.000000   \n",
       "consume_amt_session     10000.0   9981.344644   17264.501651     0.000000   \n",
       "month_avg_use_year      10000.0      0.417635       0.656466     0.000000   \n",
       "month_avg_use_month6    10000.0      0.418581       0.722189     0.000000   \n",
       "month_avg_use_month3    10000.0      0.422886       0.495612     0.000000   \n",
       "\n",
       "                                25%           50%           75%           max  \n",
       "id                      6297.250000  14943.500000  27106.500000  3.999200e+04  \n",
       "y                          0.000000      0.000000      0.000000  1.000000e+00  \n",
       "city                      18.000000     57.000000     96.000000  1.390000e+02  \n",
       "mar_status                 0.000000      0.000000      2.000000  2.000000e+00  \n",
       "age                       28.000000     32.000000     38.000000  7.400000e+01  \n",
       "xaccount_age               7.000000     14.000000     23.000000  1.450000e+02  \n",
       "cred_limit              6500.000000  18000.000000  35000.000000  5.000000e+05  \n",
       "this_bill_rate             0.111086      0.386447      0.835856  1.697924e+01  \n",
       "this_bill_mp            1613.560000   4692.610000  13298.132500  4.669180e+05  \n",
       "last_mp_days             272.000000   9999.000000   9999.000000  9.999000e+03  \n",
       "six_bill_num               5.000000      6.000000      6.000000  6.000000e+00  \n",
       "six_bill_avg_amt        2194.707500   5521.700000  12718.320000  3.994140e+05  \n",
       "six_cycle_mp_num           0.000000      0.000000      0.000000  5.000000e+00  \n",
       "six_cycle_mp_avg_amt       0.000000      0.000000      0.000000  2.657920e+05  \n",
       "six_bill_avg_debt_rate     0.274150      0.666278      1.525190  4.034583e+01  \n",
       "six_bill_low_repay_num     0.000000      0.000000      1.000000  6.000000e+00  \n",
       "six_optial_mp_num          0.000000      0.000000      0.000000  0.000000e+00  \n",
       "six_optial_mp_avg_amt      0.000000      0.000000      0.000000  0.000000e+00  \n",
       "epp_nbr_12m                0.000000      0.000000      1.000000  1.020000e+02  \n",
       "alop_nbr_12m               0.000000      0.000000      0.000000  2.400000e+01  \n",
       "epp_avg_amt_12m            0.000000      0.000000    613.522500  4.812342e+04  \n",
       "alop_avg_amt_12m           0.000000      0.000000      0.000000  5.083333e+04  \n",
       "consume_num_session12      9.000000     25.000000     64.000000  2.839000e+03  \n",
       "consume_num_session6       6.000000     15.000000     38.000000  1.689000e+03  \n",
       "consume_num_session3       3.000000      8.000000     21.000000  9.040000e+02  \n",
       "consume_num_session        1.000000      3.000000      8.000000  2.710000e+02  \n",
       "consume_amt_session12   9943.375000  31161.845000  86581.165000  3.956771e+06  \n",
       "consume_amt_session6    6449.990000  20000.000000  53806.420000  2.655518e+06  \n",
       "consume_amt_session3    3508.062500  11634.440000  31408.000000  1.451518e+06  \n",
       "consume_amt_session      960.000000   4000.000000  12444.197500  4.920180e+05  \n",
       "month_avg_use_year         0.148722      0.332295      0.613626  4.810714e+01  \n",
       "month_avg_use_month6       0.133156      0.326865      0.630470  5.612500e+01  \n",
       "month_avg_use_month3       0.107737      0.331387      0.663169  2.583333e+01  "
      ]
     },
     "execution_count": 4,
     "metadata": {},
     "output_type": "execute_result"
    }
   ],
   "source": [
    "data.describe().T"
   ]
  },
  {
   "cell_type": "code",
   "execution_count": 5,
   "metadata": {
    "collapsed": false
   },
   "outputs": [],
   "source": [
    "data = data.drop(['six_optial_mp_num','six_optial_mp_avg_amt'],axis=1)\n",
    "# id 没什么用处 也删掉\n",
    "data = data.drop(['id'],axis=1)\n"
   ]
  },
  {
   "cell_type": "code",
   "execution_count": 45,
   "metadata": {
    "collapsed": true
   },
   "outputs": [],
   "source": [
    "data.to_csv('data_f.csv') "
   ]
  },
  {
   "cell_type": "code",
   "execution_count": 6,
   "metadata": {
    "collapsed": true
   },
   "outputs": [],
   "source": [
    "trainData=data"
   ]
  },
  {
   "cell_type": "code",
   "execution_count": 7,
   "metadata": {
    "collapsed": true
   },
   "outputs": [],
   "source": [
    "allFeatures=trainData.columns.values.tolist()"
   ]
  },
  {
   "cell_type": "code",
   "execution_count": 8,
   "metadata": {
    "collapsed": false
   },
   "outputs": [
    {
     "data": {
      "text/plain": [
       "['y',\n",
       " 'city',\n",
       " 'mar_status',\n",
       " 'age',\n",
       " 'xaccount_age',\n",
       " 'cred_limit',\n",
       " 'this_bill_rate',\n",
       " 'this_bill_mp',\n",
       " 'last_mp_days',\n",
       " 'six_bill_num',\n",
       " 'six_bill_avg_amt',\n",
       " 'six_cycle_mp_num',\n",
       " 'six_cycle_mp_avg_amt',\n",
       " 'six_bill_avg_debt_rate',\n",
       " 'six_bill_low_repay_num',\n",
       " 'epp_nbr_12m',\n",
       " 'alop_nbr_12m',\n",
       " 'epp_avg_amt_12m',\n",
       " 'alop_avg_amt_12m',\n",
       " 'consume_num_session12',\n",
       " 'consume_num_session6',\n",
       " 'consume_num_session3',\n",
       " 'consume_num_session',\n",
       " 'consume_amt_session12',\n",
       " 'consume_amt_session6',\n",
       " 'consume_amt_session3',\n",
       " 'consume_amt_session',\n",
       " 'month_avg_use_year',\n",
       " 'month_avg_use_month6',\n",
       " 'month_avg_use_month3']"
      ]
     },
     "execution_count": 8,
     "metadata": {},
     "output_type": "execute_result"
    }
   ],
   "source": [
    "allFeatures"
   ]
  },
  {
   "cell_type": "code",
   "execution_count": 15,
   "metadata": {
    "collapsed": false
   },
   "outputs": [
    {
     "name": "stdout",
     "output_type": "stream",
     "text": [
      "['mar_status']\n"
     ]
    }
   ],
   "source": [
    "############################\n",
    "#   2, 分箱，计算WOE并编码   #\n",
    "############################\n",
    "'''\n",
    "对类别型变量的分箱和WOE计算\n",
    "可以通过计算取值个数的方式判断是否是类别型变量\n",
    "'''\n",
    "categoricalFeatures = []\n",
    "numericalFeatures = []\n",
    "WOE_IV_dict = {}\n",
    "for var in allFeatures:\n",
    "    if len(set(trainData[var])) > 5:\n",
    "        numericalFeatures.append(var)\n",
    "    else:\n",
    "        categoricalFeatures.append(var)\n",
    "not_monotone =[]\n",
    "for var in categoricalFeatures:\n",
    "    #检查bad rate在箱中的单调性\n",
    "    if not scorecard_function.BadRateMonotone(trainData, var, 'y'):\n",
    "        not_monotone.append(var)\n",
    "print(not_monotone)"
   ]
  },
  {
   "cell_type": "code",
   "execution_count": 10,
   "metadata": {
    "collapsed": false,
    "scrolled": true
   },
   "outputs": [
    {
     "data": {
      "text/plain": [
       "mar_status\n",
       "0.0    6472\n",
       "1.0     302\n",
       "2.0    3226\n",
       "Name: y, dtype: int64"
      ]
     },
     "execution_count": 10,
     "metadata": {},
     "output_type": "execute_result"
    }
   ],
   "source": [
    "trainData.groupby(['mar_status'])['y'].count()   #不需要合并"
   ]
  },
  {
   "cell_type": "code",
   "execution_count": 32,
   "metadata": {
    "collapsed": false
   },
   "outputs": [],
   "source": [
    "# 将 M2FreqL3M>=1的合并为一组，计算WOE和IV\n",
    "trainData['mar_status_Bin'] = trainData['mar_status'].apply(lambda x: int(x>=2))\n",
    "trainData.groupby(['mar_status_Bin'])['y'].mean()\n",
    "WOE_IV_dict['mar_status_Bin'] = scorecard_function.CalcWOE(trainData, 'mar_status_Bin', 'y')"
   ]
  },
  {
   "cell_type": "code",
   "execution_count": 33,
   "metadata": {
    "collapsed": false
   },
   "outputs": [],
   "source": [
    "'''\n",
    "对其他单调的类别型变量，检查是否有一箱的占比低于5%。 如果有，将该变量进行合并\n",
    "'''\n",
    "small_bin_var = []\n",
    "large_bin_var = []\n",
    "N = trainData.shape[0]\n",
    "for var in categoricalFeatures:\n",
    "    if var not in not_monotone:\n",
    "        total = trainData.groupby([var])[var].count()\n",
    "        pcnt = total * 1.0 / N\n",
    "        if min(pcnt)<0.05:\n",
    "            small_bin_var.append({var:pcnt.to_dict()})\n",
    "        else:\n",
    "            large_bin_var.append(var)\n",
    "for i in small_bin_var:\n",
    "    print (i)"
   ]
  },
  {
   "cell_type": "code",
   "execution_count": 34,
   "metadata": {
    "collapsed": true
   },
   "outputs": [],
   "source": [
    "'''\n",
    "对于数值型变量，需要先分箱，再计算WOE、IV\n",
    "分箱的结果需要满足：\n",
    "1，箱数不超过5\n",
    "2，bad rate单调\n",
    "3，每箱占比不低于5%\n",
    "'''\n",
    "bin_dict = []\n",
    "for var in numericalFeatures:\n",
    "    binNum = 5\n",
    "    newBin = var + '_Bin'\n",
    "    bin = scorecard_function.ChiMerge(trainData, var, 'y', max_interval=binNum, minBinPcnt = 0.05)\n",
    "    trainData[newBin] = trainData[var].apply(lambda x: scorecard_function.AssignBin(x, bin))\n",
    "    # 如果不满足单调性，就降低分箱个数\n",
    "    while not scorecard_function.BadRateMonotone(trainData, newBin, 'y'):\n",
    "        binNum -= 1\n",
    "        bin = scorecard_function.ChiMerge(trainData, var, 'y', max_interval=binNum, minBinPcnt=0.05)\n",
    "        trainData[newBin] = trainData[var].apply(lambda x: scorecard_function.AssignBin(x, bin))\n",
    "    WOE_IV_dict[newBin] = scorecard_function.CalcWOE(trainData, newBin, 'y')\n",
    "    bin_dict.append({var:bin})"
   ]
  },
  {
   "cell_type": "code",
   "execution_count": 28,
   "metadata": {
    "collapsed": false
   },
   "outputs": [
    {
     "data": {
      "text/plain": [
       "[0.0062066669999999999]"
      ]
     },
     "execution_count": 28,
     "metadata": {},
     "output_type": "execute_result"
    }
   ],
   "source": [
    "bin"
   ]
  },
  {
   "cell_type": "code",
   "execution_count": 35,
   "metadata": {
    "collapsed": false
   },
   "outputs": [
    {
     "data": {
      "text/plain": [
       "[{'city': [68.0]},\n",
       " {'age': [22.0]},\n",
       " {'xaccount_age': [6.0, 27.0]},\n",
       " {'cred_limit': [13500.0, 37000.0]},\n",
       " {'this_bill_rate': [0.15304142900000001]},\n",
       " {'this_bill_mp': [3555.3699999999999]},\n",
       " {'last_mp_days': [60.0, 334.0]},\n",
       " {'six_bill_num': [1.0]},\n",
       " {'six_bill_avg_amt': [4489.6000000000004]},\n",
       " {'six_cycle_mp_num': [0.0, 2.0]},\n",
       " {'six_cycle_mp_avg_amt': [0.0]},\n",
       " {'six_bill_avg_debt_rate': [0.20876399999999998,\n",
       "   0.42908640000000003,\n",
       "   1.3301478259999999]},\n",
       " {'six_bill_low_repay_num': [0.0, 1.0]},\n",
       " {'epp_nbr_12m': [0.0, 1.0, 3.0, 5.0]},\n",
       " {'alop_nbr_12m': [0.0, 2.0]},\n",
       " {'epp_avg_amt_12m': [42.829999999999998,\n",
       "   416.67000000000002,\n",
       "   833.33000000000004,\n",
       "   1930.99]},\n",
       " {'alop_avg_amt_12m': [0.0, 416.67000000000002]},\n",
       " {'consume_num_session12': [0.0, 70.0]},\n",
       " {'consume_num_session6': [0.0, 25.0]},\n",
       " {'consume_num_session3': [0.0]},\n",
       " {'consume_num_session': [0.0, 5.0]},\n",
       " {'consume_amt_session12': [411.36000000000001]},\n",
       " {'consume_amt_session6': [580.0]},\n",
       " {'consume_amt_session3': [500.0]},\n",
       " {'consume_amt_session': [200.0]},\n",
       " {'month_avg_use_year': [0.090956666999999991]},\n",
       " {'month_avg_use_month6': [0.056218205]},\n",
       " {'month_avg_use_month3': [0.0062066669999999999]}]"
      ]
     },
     "execution_count": 35,
     "metadata": {},
     "output_type": "execute_result"
    }
   ],
   "source": [
    "bin_dict"
   ]
  },
  {
   "cell_type": "code",
   "execution_count": 36,
   "metadata": {
    "collapsed": true
   },
   "outputs": [],
   "source": [
    "%matplotlib inline"
   ]
  },
  {
   "cell_type": "code",
   "execution_count": 37,
   "metadata": {
    "collapsed": false
   },
   "outputs": [
    {
     "data": {
      "text/plain": [
       "<matplotlib.axes._subplots.AxesSubplot at 0x1c5fbb845c0>"
      ]
     },
     "execution_count": 37,
     "metadata": {},
     "output_type": "execute_result"
    },
    {
     "data": {
      "image/png": "[encoded data removed]",
      "text/plain": [
       "<matplotlib.figure.Figure at 0x1c5fa52e3c8>"
      ]
     },
     "metadata": {},
     "output_type": "display_data"
    }
   ],
   "source": [
    "##############################\n",
    "#   3, 单变量分析和多变量分析   #\n",
    "##############################\n",
    "#  选取IV高于0.02的变量\n",
    "high_IV = [(k,v['IV']) for k,v in WOE_IV_dict.items() if v['IV'] >= 0.02]\n",
    "high_IV_sorted = sorted(high_IV, key=lambda k: k[1],reverse=True)\n",
    "for (var,iv) in high_IV:\n",
    "    newVar = var+\"_WOE\"\n",
    "    trainData[newVar] = trainData[var].map(lambda x: WOE_IV_dict[var]['WOE'][x])\n",
    "'''\n",
    "多变量分析：比较两两线性相关性。如果相关系数的绝对值高于阈值，剔除IV较低的一个\n",
    "'''\n",
    "deleted_index = []\n",
    "cnt_vars = len(high_IV_sorted)\n",
    "for i in range(cnt_vars):\n",
    "    if i in deleted_index:\n",
    "        continue\n",
    "    x1 = high_IV_sorted[i][0]+\"_WOE\"\n",
    "    for j in range(cnt_vars):\n",
    "        if i == j or j in deleted_index:\n",
    "            continue\n",
    "        y1 = high_IV_sorted[j][0]+\"_WOE\"\n",
    "        roh = np.corrcoef(trainData[x1],trainData[y1])[0,1]\n",
    "        if abs(roh)>0.7:\n",
    "            x1_IV = high_IV_sorted[i][1]\n",
    "            y1_IV = high_IV_sorted[j][1]\n",
    "            if x1_IV > y1_IV:\n",
    "                deleted_index.append(j)\n",
    "            else:\n",
    "                deleted_index.append(i)\n",
    "\n",
    "single_analysis_vars = [high_IV_sorted[i][0]+\"_WOE\" for i in range(cnt_vars) if i not in deleted_index]\n",
    "\n",
    "\n",
    "X = trainData[single_analysis_vars]\n",
    "f, ax = plt.subplots(figsize=(10, 8))\n",
    "corr = X.corr()\n",
    "sns.heatmap(corr, mask=np.zeros_like(corr, dtype=np.bool), cmap=sns.diverging_palette(220, 10, as_cmap=True),square=True, ax=ax)"
   ]
  },
  {
   "cell_type": "code",
   "execution_count": 38,
   "metadata": {
    "collapsed": false
   },
   "outputs": [
    {
     "name": "stdout",
     "output_type": "stream",
     "text": [
      "2.6938861832\n"
     ]
    }
   ],
   "source": [
    "'''\n",
    "多变量分析：VIF\n",
    "'''\n",
    "X = np.matrix(trainData[single_analysis_vars])\n",
    "VIF_list = [variance_inflation_factor(X, i) for i in range(X.shape[1])]\n",
    "print (max(VIF_list))\n",
    "# 最大的VIF是 3.429，小于10，因此这一步认为没有多重共线性\n",
    "multi_analysis = single_analysis_vars"
   ]
  },
  {
   "cell_type": "code",
   "execution_count": 39,
   "metadata": {
    "collapsed": false
   },
   "outputs": [
    {
     "name": "stdout",
     "output_type": "stream",
     "text": [
      "Optimization terminated successfully.\n",
      "         Current function value: 0.375598\n",
      "         Iterations 9\n",
      "                                    coef       p-value\n",
      "six_bill_num_Bin_WOE           -2.344378  2.083640e-46\n",
      "intercept                      -1.408368  0.000000e+00\n",
      "consume_amt_session_Bin_WOE    -0.804788  5.900135e-21\n",
      "this_bill_rate_Bin_WOE         -0.731343  4.404876e-20\n",
      "six_cycle_mp_num_Bin_WOE       -0.681162  7.455086e-69\n",
      "six_bill_low_repay_num_Bin_WOE -0.597926  1.321810e-09\n",
      "epp_nbr_12m_Bin_WOE            -0.538459  5.867296e-37\n",
      "alop_nbr_12m_Bin_WOE           -0.483518  1.456089e-07\n",
      "consume_amt_session3_Bin_WOE   -0.337240  2.551449e-03\n",
      "cred_limit_Bin_WOE             -0.295123  1.589233e-01\n",
      "consume_num_session12_Bin_WOE  -0.240428  2.137385e-01\n",
      "month_avg_use_month6_Bin_WOE    0.138797  2.632814e-01\n",
      "six_bill_avg_debt_rate_Bin_WOE  0.166581  4.440023e-01\n"
     ]
    },
    {
     "name": "stderr",
     "output_type": "stream",
     "text": [
      "C:\\ProgramData\\Anaconda3\\lib\\site-packages\\ipykernel\\__main__.py:5: SettingWithCopyWarning: \n",
      "A value is trying to be set on a copy of a slice from a DataFrame.\n",
      "Try using .loc[row_indexer,col_indexer] = value instead\n",
      "\n",
      "See the caveats in the documentation: http://pandas.pydata.org/pandas-docs/stable/indexing.html#indexing-view-versus-copy\n"
     ]
    }
   ],
   "source": [
    "################################\n",
    "#   4, 建立逻辑回归模型预测违约   #\n",
    "################################\n",
    "X = trainData[multi_analysis]\n",
    "X['intercept'] = [1] * X.shape[0]\n",
    "y = trainData['y']\n",
    "logit = sm.Logit(y, X)\n",
    "logit_result = logit.fit()\n",
    "pvalues = logit_result.pvalues\n",
    "params = logit_result.params\n",
    "fit_result = pd.concat([params,pvalues],axis=1)\n",
    "fit_result.columns = ['coef','p-value']\n",
    "fit_result = fit_result.sort_values(by = 'coef')\n",
    "print(fit_result)"
   ]
  },
  {
   "cell_type": "code",
   "execution_count": 41,
   "metadata": {
    "collapsed": false
   },
   "outputs": [
    {
     "data": {
      "text/plain": [
       "<matplotlib.axes._subplots.AxesSubplot at 0x1c5fa6fc630>"
      ]
     },
     "execution_count": 41,
     "metadata": {},
     "output_type": "execute_result"
    },
    {
     "data": {
      "image/png": "[encoded data removed]",
      "text/plain": [
       "<matplotlib.figure.Figure at 0x1c5fa6e4048>"
      ]
     },
     "metadata": {},
     "output_type": "display_data"
    }
   ],
   "source": [
    "clf = ensemble.GradientBoostingClassifier()\n",
    "gbdt_model = clf.fit(X, y)\n",
    "importace = gbdt_model.feature_importances_.tolist()\n",
    "featureImportance = zip(multi_analysis,importace)\n",
    "featureImportanceSorted = sorted(featureImportance, key=lambda k: k[1],reverse=True)\n",
    "pd.DataFrame(featureImportanceSorted).plot(kind='bar')"
   ]
  },
  {
   "cell_type": "code",
   "execution_count": 55,
   "metadata": {
    "collapsed": false
   },
   "outputs": [
    {
     "name": "stdout",
     "output_type": "stream",
     "text": [
      "Optimization terminated successfully.\n",
      "         Current function value: 0.393721\n",
      "         Iterations 9\n",
      "Optimization terminated successfully.\n",
      "         Current function value: 0.384441\n",
      "         Iterations 10\n",
      "current var is  six_bill_num_Bin_WOE     -2.39989306578\n",
      "Optimization terminated successfully.\n",
      "         Current function value: 0.385063\n",
      "         Iterations 9\n",
      "current var is  consume_amt_session_Bin_WOE     -0.919123442649\n",
      "Optimization terminated successfully.\n",
      "         Current function value: 0.390150\n",
      "         Iterations 9\n",
      "current var is  consume_amt_session3_Bin_WOE     -0.69939542832\n",
      "Optimization terminated successfully.\n",
      "         Current function value: 0.393650\n",
      "         Iterations 9\n",
      "current var is  month_avg_use_month6_Bin_WOE     -0.136486755351\n",
      "Optimization terminated successfully.\n",
      "         Current function value: 0.393721\n",
      "         Iterations 9\n",
      "                                    coef       p-value\n",
      "intercept                      -1.389196  0.000000e+00\n",
      "six_cycle_mp_num_Bin_WOE       -0.629731  5.660627e-64\n",
      "this_bill_rate_Bin_WOE         -1.124799  3.572546e-58\n",
      "epp_nbr_12m_Bin_WOE            -0.499565  5.736064e-34\n",
      "alop_nbr_12m_Bin_WOE           -0.440896  6.392635e-07\n",
      "consume_num_session12_Bin_WOE  -0.617565  2.787288e-04\n",
      "six_bill_low_repay_num_Bin_WOE -0.239468  1.088657e-02\n",
      "cred_limit_Bin_WOE             -0.495583  1.337054e-02\n",
      "six_bill_avg_debt_rate_Bin_WOE  0.291758  1.657037e-01\n"
     ]
    }
   ],
   "source": [
    "# 先假定模型可以容纳4个特征，再逐步增加特征个数，直到有特征的系数为正，或者p值超过0.1\n",
    "n = 8\n",
    "featureSelected = [i[0] for i in featureImportanceSorted[:n]]\n",
    "X_train = X[featureSelected+['intercept']]\n",
    "logit = sm.Logit(y, X_train)\n",
    "logit_result = logit.fit()\n",
    "pvalues = logit_result.pvalues\n",
    "params = logit_result.params\n",
    "fit_result = pd.concat([params,pvalues],axis=1)\n",
    "fit_result.columns = ['coef','p-value']\n",
    "'''\n",
    "                              coef       p-value\n",
    "maxDelqL3M_Bin_WOE       -0.895654  0.000000e+00\n",
    "increaseUrateL6M_Bin_WOE -1.084713  1.623441e-84\n",
    "M0FreqL3M_WOE            -0.436273  1.556517e-74\n",
    "avgUrateL1M_Bin_WOE      -0.629355  7.146665e-16\n",
    "avgUrateL3M_Bin_WOE      -0.570670  8.207241e-12\n",
    "intercept                -1.831752  0.000000e+00\n",
    "'''\n",
    "while(n<len(featureImportanceSorted)):\n",
    "    nextVar = featureImportanceSorted[n][0]\n",
    "    featureSelected = featureSelected + [nextVar]\n",
    "    X_train = X[featureSelected+['intercept']]\n",
    "    logit = sm.Logit(y, X_train)\n",
    "    logit_result = logit.fit()\n",
    "    params = logit_result.params\n",
    "    print (\"current var is \",nextVar,'   ', params[nextVar])\n",
    "    if max(params) < 0:\n",
    "        n += 1\n",
    "    else:\n",
    "        featureSelected.remove(nextVar)\n",
    "        n += 1\n",
    "\n",
    "X_train = X[featureSelected+['intercept']]\n",
    "logit = sm.Logit(y, X_train)\n",
    "logit_result = logit.fit()\n",
    "pvalues = logit_result.pvalues\n",
    "params = logit_result.params\n",
    "fit_result = pd.concat([params,pvalues],axis=1)\n",
    "fit_result.columns = ['coef','p-value']\n",
    "fit_result = fit_result.sort_values(by  = 'p-value')\n",
    "print(fit_result)"
   ]
  },
  {
   "cell_type": "code",
   "execution_count": 56,
   "metadata": {
    "collapsed": false,
    "scrolled": true
   },
   "outputs": [
    {
     "name": "stdout",
     "output_type": "stream",
     "text": [
      "Optimization terminated successfully.    (Exit mode 0)\n",
      "            Current function value: 0.431012122991\n",
      "            Iterations: 31\n",
      "            Function evaluations: 31\n",
      "            Gradient evaluations: 31\n",
      "Optimization terminated successfully.    (Exit mode 0)\n",
      "            Current function value: 0.431320405761\n",
      "            Iterations: 31\n",
      "            Function evaluations: 31\n",
      "            Gradient evaluations: 31\n",
      "['six_cycle_mp_num_Bin_WOE', 'epp_nbr_12m_Bin_WOE', 'this_bill_rate_Bin_WOE', 'consume_num_session12_Bin_WOE']\n",
      "Optimization terminated successfully.\n",
      "         Current function value: 0.395771\n",
      "         Iterations 9\n",
      "0.427952767615 0.767721802946\n"
     ]
    },
    {
     "name": "stderr",
     "output_type": "stream",
     "text": [
      "C:\\ProgramData\\Anaconda3\\lib\\site-packages\\scipy\\stats\\_distn_infrastructure.py:875: RuntimeWarning: invalid value encountered in greater\n",
      "  return (self.a < x) & (x < self.b)\n",
      "C:\\ProgramData\\Anaconda3\\lib\\site-packages\\scipy\\stats\\_distn_infrastructure.py:875: RuntimeWarning: invalid value encountered in less\n",
      "  return (self.a < x) & (x < self.b)\n",
      "C:\\ProgramData\\Anaconda3\\lib\\site-packages\\scipy\\stats\\_distn_infrastructure.py:1814: RuntimeWarning: invalid value encountered in less_equal\n",
      "  cond2 = cond0 & (x <= self.a)\n"
     ]
    }
   ],
   "source": [
    "X2 = X[featureSelected+['intercept']]\n",
    "for alpha in range(100,0,-1):\n",
    "    l1_logit = sm.Logit.fit_regularized(sm.Logit(y, X2), start_params=None, method='l1', alpha=alpha)\n",
    "    pvalues = l1_logit.pvalues\n",
    "    params = l1_logit.params\n",
    "    if max(pvalues)>=0.1 or max(params)>0:\n",
    "        break\n",
    "\n",
    "bestAlpha = alpha + 1\n",
    "l1_logit = sm.Logit.fit_regularized(sm.Logit(y, X2), start_params=None, method='l1', alpha=bestAlpha)\n",
    "params = l1_logit.params\n",
    "params2 = params.to_dict()\n",
    "featuresInModel = [k for k, v in params2.items() if k!='intercept' and v < -0.0000001]\n",
    "print(featuresInModel)\n",
    "\n",
    "X_train = X[featuresInModel + ['intercept']]\n",
    "logit = sm.Logit(y, X_train)\n",
    "logit_result = logit.fit()\n",
    "trainData['pred'] = logit_result.predict(X_train)\n",
    "\n",
    "ks = scorecard_function.KS(trainData, 'pred', 'y')\n",
    "auc = roc_auc_score(trainData['y'],trainData['pred'])  #AUC = 0.73\n",
    "#{'AUC': 0.83644931044825688, 'KS': 0.59816049348012412}\n",
    "print(ks, auc)"
   ]
  },
  {
   "cell_type": "markdown",
   "metadata": {},
   "source": [
    "n=4 0.438961864374 0.785623678184\n",
    "['six_cycle_mp_num_Bin_WOE',\n",
    " 'epp_nbr_12m_Bin_WOE',\n",
    " 'this_bill_rate_Bin_WOE',\n",
    " 'consume_amt_session_Bin_WOE']\n",
    "n=5  0.438961864374 0.785623678184\n",
    "n=6 \n",
    "['six_cycle_mp_num_Bin_WOE', 'epp_nbr_12m_Bin_WOE', 'this_bill_rate_Bin_WOE']\n",
    "n=8\n",
    "0.427952767615 0.767721802946"
   ]
  },
  {
   "cell_type": "code",
   "execution_count": 57,
   "metadata": {
    "collapsed": false
   },
   "outputs": [
    {
     "data": {
      "text/plain": [
       "['six_cycle_mp_num_Bin_WOE',\n",
       " 'epp_nbr_12m_Bin_WOE',\n",
       " 'this_bill_rate_Bin_WOE',\n",
       " 'consume_num_session12_Bin_WOE']"
      ]
     },
     "execution_count": 57,
     "metadata": {},
     "output_type": "execute_result"
    }
   ],
   "source": [
    "featuresInModel"
   ]
  },
  {
   "cell_type": "code",
   "execution_count": 52,
   "metadata": {
    "collapsed": true
   },
   "outputs": [],
   "source": [
    "##################################\n",
    "#   5，在测试集上测试逻辑回归的结果   #\n",
    "###################################\n",
    "# 准备WOE编码后的变量\n",
    "modelFeatures = [i.replace('_Bin','').replace('_WOE','') for i in featuresInModel]\n",
    "\n",
    "numFeatures = [i for i in modelFeatures if i in numericalFeatures]\n",
    "charFeatures = [i for i in modelFeatures if i in categoricalFeatures]\n"
   ]
  },
  {
   "cell_type": "code",
   "execution_count": 53,
   "metadata": {
    "collapsed": false
   },
   "outputs": [
    {
     "data": {
      "text/plain": [
       "['six_cycle_mp_num', 'epp_nbr_12m', 'this_bill_rate']"
      ]
     },
     "execution_count": 53,
     "metadata": {},
     "output_type": "execute_result"
    }
   ],
   "source": [
    "numFeatures"
   ]
  },
  {
   "cell_type": "code",
   "execution_count": 54,
   "metadata": {
    "collapsed": false
   },
   "outputs": [
    {
     "data": {
      "text/plain": [
       "[]"
      ]
     },
     "execution_count": 54,
     "metadata": {},
     "output_type": "execute_result"
    }
   ],
   "source": [
    "charFeatures"
   ]
  },
  {
   "cell_type": "code",
   "execution_count": null,
   "metadata": {
    "collapsed": true
   },
   "outputs": [],
   "source": [
    "\n",
    "testData['mar_status_Bin'] = testData['mar_status'].apply(lambda x: x)\n",
    "trainData.groupby(['mar_status_Bin'])['y'].mean()\n",
    "WOE_IV_dict['mar_status_Bin'] = scorecard_function.CalcWOE(trainData, 'mar_status_Bin', 'y')\n",
    "\n",
    "testData['M2FreqL3M_Bin'] = testData['M2FreqL3M'].apply(lambda x: int(x>=1))\n",
    "testData['maxDelqL1M_Bin'] = testData['maxDelqL1M'].apply(lambda x: scorecard_function.MergeByCondition(x, ['==0', '==1', '>=2']))\n",
    "testData['maxDelqL3M_Bin'] = testData['maxDelqL3M'].apply(lambda x: scorecard_function.MergeByCondition(x, ['==0', '==1', '>=2']))\n",
    "for var in numFeatures:\n",
    "        newBin = var+\"_Bin\"\n",
    "        bin = list([i.values() for i in bin_dict if var in i][0])[0]\n",
    "        testData[newBin] = testData[var].apply(lambda x: scorecard_function.AssignBin(x, bin))\n",
    "\n",
    "finalFeatures = [i+'_Bin' for i in numFeatures] + ['M2FreqL3M_Bin','maxDelqL1M_Bin','maxDelqL3M_Bin','M0FreqL3M']\n",
    "for var in finalFeatures:\n",
    "    var2 = var+\"_WOE\"\n",
    "    testData[var2] = testData[var].apply(lambda x: WOE_IV_dict[var]['WOE'][x])\n",
    "\n",
    "X_test = testData[featuresInModel]\n",
    "X_test['intercept'] = [1]*X_test.shape[0]\n",
    "testData['pred'] = logit_result.predict(X_test)\n",
    "\n",
    "\n",
    "ks = scorecard_function.KS(testData, 'pred', 'label')\n",
    "auc = roc_auc_score(testData['label'],testData['pred'])\n",
    "print(ks, auc)"
   ]
  }
 ],
 "metadata": {
  "kernelspec": {
   "display_name": "Python 3",
   "language": "python",
   "name": "python3"
  },
  "language_info": {
   "codemirror_mode": {
    "name": "ipython",
    "version": 3
   },
   "file_extension": ".py",
   "mimetype": "text/x-python",
   "name": "python",
   "nbconvert_exporter": "python",
   "pygments_lexer": "ipython3",
   "version": "3.6.0"
  }
 },
 "nbformat": 4,
 "nbformat_minor": 2
}
